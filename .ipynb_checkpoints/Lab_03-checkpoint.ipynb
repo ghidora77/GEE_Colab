{
 "cells": [
  {
   "cell_type": "markdown",
   "metadata": {
    "cell_id": "3db34a80-4460-4b2c-b6d3-499ae7cc2a7d",
    "deepnote_cell_height": 66,
    "deepnote_cell_type": "code",
    "tags": []
   },
   "source": [
    "# Lab 03 - Spectral Indices & Transformations\n",
    "\n",
    "## Overview\n",
    "\n",
    "In this lab, we will work with the spectral characteristics in our data to visualize and extract insights that go beyond basic visual interpretation. We will work with the different spectral bands offered by Landsat 8 to find unique patterns that can help us solve problems and conduct analysis. By the end of this lab, you should be able to understand how to build and visualize existing indices, as well as construct your own, identify how different indices can help your use case, and understand the mechanism behind how they work. \n",
    "\n",
    "## Spectral Indices\n",
    "\n",
    "Spectroscopy is the study of how radiation is absorbed, reflected and emitted by different materials. While this discipline has its origins in chemistry and physics, we can utilize the same techniques to identify different land cover types from satellite data.  In the chart below, land cover types have unique spectral characteristics. Snow has a major peak at lower wavelengths and is near zero above 1.5 micrometer, whereas soil has very low reflectance at lower levels of wavelength but relatively strong and steady reflectance after ~0.75 micrometers. Spectral indices are built to leverage these unique characteristics and isolate specific types of land cover. \n",
    "\n",
    "Land covers are separable at different wavelengths. Vegetation curves (green) have high reflectance in the NIR range, where radiant energy is scattered by cell walls ([Bowker, 1985](http://ntrs.nasa.gov/archive/nasa/casi.ntrs.nasa.gov/19850022138.pdf)) and low reflectance in the red range, where radiant energy is [absorbed by chlorophyll](https://en.wikipedia.org/wiki/Chlorophyll#/media/File:Chlorophyll_ab_spectra-en.svg). We can leverage this information to build indices that help us differentiate vegetation from urban areas. In the next few sections, we will cover several of the most important indices in use. \n",
    "\n",
    "![Land Cover Reflectance](im/im_03_01.png)"
   ]
  },
  {
   "cell_type": "markdown",
   "metadata": {},
   "source": [
    "## Important Indices \n",
    "\n",
    "#### Normalized Difference Vegetation Index (NDVI)\n",
    "\n",
    "The Normalized Difference Vegetation Index (NDVI) has a [long history](https://en.wikipedia.org/wiki/Normalized_Difference_Vegetation_Index) in remote sensing, and is one of the most widely used measures. The typical formulation is:\n",
    "\n",
    "$$\\text{NDVI} = (\\text{NIR} - \\text{red}) / (\\text{NIR} + \\text{red})$$\n",
    "\n",
    "Where *NIR* refers to the near infrared band and *red* refers to the red peak in the visible spectrum.\n",
    "\n",
    "Because NDVI is a popular and well-known index, we can use the built-in functionality within Earth Engine `normalizedDifference()`to calculate NDVI. You can follow the steps below to build your own indices. \n",
    "\n",
    "First, build a baseline true color image around our region of interest, Blacksburg, VA. We will work with the Landsat 8 Collection 1 Tier 1 TOA Reflectance data from 2015, sort by cloud cover and extract the first image."
   ]
  },
  {
   "cell_type": "code",
   "execution_count": 1,
   "metadata": {},
   "outputs": [],
   "source": [
    "import ee, geemap\n",
    "import folium\n",
    "\n",
    "from f_build_map import build_map\n",
    "\n",
    "# Initialize the Earth Engine module.\n",
    "ee.Initialize()"
   ]
  },
  {
   "cell_type": "code",
   "execution_count": 16,
   "metadata": {},
   "outputs": [
    {
     "data": {
      "application/vnd.jupyter.widget-view+json": {
       "model_id": "da996a2c13da4f05b069dc8d7f3da6f6",
       "version_major": 2,
       "version_minor": 0
      },
      "text/plain": [
       "Map(center=[37.22, -80.42], controls=(WidgetControl(options=['position', 'transparent_bg'], widget=HBox(childr…"
      ]
     },
     "metadata": {},
     "output_type": "display_data"
    }
   ],
   "source": [
    "lat = 37.22; lon = -80.42; \n",
    "zoom = 11;\n",
    "image_collection_name = \"LANDSAT/LC08/C01/T1_TOA\"\n",
    "date_start = '2015-06-01'\n",
    "date_end = '2015-09-01'\n",
    "name = 'Landsat  8 TOA spectrum in Blacksburg, VA'\n",
    "point = ee.Geometry.Point([lon, lat])\n",
    "\n",
    "image = (\n",
    "    ee.ImageCollection(image_collection_name)\n",
    "         .filterBounds(point)\n",
    "         .filterDate(date_start, date_end)\n",
    "         .sort('CLOUD_COVER')\n",
    "         .first()\n",
    ")\n",
    "\n",
    "bands = ['B4', 'B3', 'B2']\n",
    "\n",
    "vizParams = {\n",
    "    'bands': bands, \n",
    "    'min': 0, \n",
    "    'max': 0.3\n",
    "}\n",
    "\n",
    "# Define a map centered on southern Maine.\n",
    "map = build_map(lat, lon, zoom, vizParams, image, name)\n",
    "map.add_ee_layer(image, vizParams)\n",
    "display(map)"
   ]
  },
  {
   "cell_type": "markdown",
   "metadata": {},
   "source": [
    "Now that we have the true color baseline image, we can build the NDVI index and visualize it. For visualization, we are creating a custom palette, where low values trend towards white and high values trend towards green. "
   ]
  },
  {
   "cell_type": "code",
   "execution_count": 18,
   "metadata": {},
   "outputs": [
    {
     "data": {
      "application/vnd.jupyter.widget-view+json": {
       "model_id": "f597c95c0f27433ca3a8a5c62f314929",
       "version_major": 2,
       "version_minor": 0
      },
      "text/plain": [
       "Map(center=[37.22, -80.42], controls=(WidgetControl(options=['position', 'transparent_bg'], widget=HBox(childr…"
      ]
     },
     "metadata": {},
     "output_type": "display_data"
    }
   ],
   "source": [
    "ndvi = image.normalizedDifference(['B5', 'B4']); \n",
    "vegPalette = ['white', 'green']; \n",
    "vizParams = {\n",
    "    'min': -1, \n",
    "    'max': 1,\n",
    "    'palette': vegPalette\n",
    "}\n",
    "\n",
    "# Define a map centered on southern Maine.\n",
    "map1 = build_map(lat, lon, zoom, vizParams, ndvi, name)\n",
    "display(map1)"
   ]
  },
  {
   "cell_type": "markdown",
   "metadata": {},
   "source": [
    "Use the **Inspector** to check pixel values in areas of vegetation and non-vegetation. Also inspect how the values of lakes and rivers compare.\n",
    "\n",
    "> **Question 1A**: What are some of the sample pixel values of the NDVI in the below categories. Indicate which parts of the images you used and how you determined what each of their values were.\n",
    ">\n",
    "> 1. Vegetation\n",
    "> 2. Urban features\n",
    "> 3. Bare earth \n",
    "> 4. Water"
   ]
  },
  {
   "cell_type": "markdown",
   "metadata": {},
   "source": [
    "#### Enhanced Vegetation Index (EVI) \n",
    "\n",
    "The Enhanced Vegetation Index (EVI) is designed to minimize saturation and background effects in NDVI ([Huete, 2002](http://www.sciencedirect.com/science/article/pii/S0034425702000962)). \n",
    "\n",
    "$$\\text{EVI} = 2.5 * (\\text{NIR} - \\text{red}) / (\\text{NIR} + 6 * \\text{red} - 7.5 * \\text{blue} + 1)$$\n",
    "\n",
    "Since it is not a normalized difference index, we need to build a unique [expression](https://developers.google.com/earth-engine/image_math#expressions) and then identify all of the different segments. Programmatically, bands are specifically referenced with the help of [an object](https://developer.mozilla.org/en-US/docs/Web/JavaScript/Guide/Grammar_and_Types#Object_literals) that is passed as the second argument to `image.expression()` (everything within the curly brackets). "
   ]
  },
  {
   "cell_type": "code",
   "execution_count": 21,
   "metadata": {},
   "outputs": [
    {
     "data": {
      "application/vnd.jupyter.widget-view+json": {
       "model_id": "7acf90d3416241eb99c92fc44acac636",
       "version_major": 2,
       "version_minor": 0
      },
      "text/plain": [
       "Map(center=[37.22, -80.42], controls=(WidgetControl(options=['position', 'transparent_bg'], widget=HBox(childr…"
      ]
     },
     "metadata": {},
     "output_type": "display_data"
    }
   ],
   "source": [
    "# Build the expression\n",
    "exp = '2.5  * ((NIR - RED) / (NIR + 6 * RED - 7.5 * BLUE + 1))';\n",
    "evi = image.expression( exp, \n",
    "                            {'NIR': image.select('B5'),\n",
    "                             'RED': image.select('B4'),\n",
    "                             'BLUE': image.select('B2')\n",
    "                            });  \n",
    "\n",
    "# Define a map centered on southern Maine.\n",
    "map2 = build_map(lat, lon, zoom, vizParams, evi, name)\n",
    "display(map2)"
   ]
  },
  {
   "cell_type": "markdown",
   "metadata": {},
   "source": [
    "> **Question 1B**: Compare EVI to NDVI across those same land use categories as in the previous question. What do you observe -- how are the images and values similar or different across the two indices?"
   ]
  },
  {
   "cell_type": "markdown",
   "metadata": {},
   "source": [
    "#### Normalized Difference Water Index (NDWI)\n",
    "\n",
    "The Normalized Difference Water Index (NDWI) was developed by [Gao (1996)](http://www.sciencedirect.com/science/article/pii/S0034425796000673) as an index to identify the water content within vegetation. SWIR stands for short-wave infrared, which is the Landsat band 6.  This is not an exact implementation of NDWI, according to the [OLI spectral response](http://landsat.gsfc.nasa.gov/?p=5779), since OLI does not have a band in the right position (1.26 𝛍m) - but for our purposes, this is an approximation that does an acceptable job of identifying water content. \n",
    "\n",
    "$$\\text{NDWI} = (\\text{NIR} - \\text{SWIR})) / (\\text{NIR} + \\text{SWIR})$$"
   ]
  },
  {
   "cell_type": "code",
   "execution_count": 34,
   "metadata": {},
   "outputs": [
    {
     "data": {
      "application/vnd.jupyter.widget-view+json": {
       "model_id": "cb4df1c4dd604659817786e8c20c5190",
       "version_major": 2,
       "version_minor": 0
      },
      "text/plain": [
       "Map(center=[37.22, -80.42], controls=(WidgetControl(options=['position', 'transparent_bg'], widget=HBox(childr…"
      ]
     },
     "metadata": {},
     "output_type": "display_data"
    }
   ],
   "source": [
    "ndwi = image.normalizedDifference(['B5', 'B6']);  \n",
    "waterPalette = ['white', 'blue'];   \n",
    "\n",
    "vizParams = {\n",
    "    'min': -1, \n",
    "    'max': 1,\n",
    "    'palette': waterPalette\n",
    "}\n",
    "# Define a map centered on southern Maine.\n",
    "map3 = build_map(lat, lon, zoom, vizParams, ndwi, name)\n",
    "display(map3)"
   ]
  },
  {
   "cell_type": "markdown",
   "metadata": {},
   "source": [
    "#### Normalized Difference Water *Body* Index (NDWBI)\n",
    "\n",
    "The fact that two different NDWI indices were independently invented in 1996 complicates things. While the NDWI looks at water content within vegetation, the NDWBI is built to identify bodies of water (rivers, lakes, oceans). To distinguish, define the Normalized Difference Water *Body* Index (NDWBI) as the index described in [McFeeters (1996)](http://www.tandfonline.com/doi/abs/10.1080/01431169608948714#.VkThFHyrTlM):\n",
    "\n",
    "$$\\text{NDWBI} = (\\text{green} - \\text{NIR}) / (\\text{green} + \\text{NIR})$$\n",
    "\n",
    "As previously, implement NDWBI with `normalizedDifference()` and display the result."
   ]
  },
  {
   "cell_type": "code",
   "execution_count": 35,
   "metadata": {},
   "outputs": [
    {
     "data": {
      "application/vnd.jupyter.widget-view+json": {
       "model_id": "5dc2ef6ccfde4a7793196ff3e8a440e6",
       "version_major": 2,
       "version_minor": 0
      },
      "text/plain": [
       "Map(center=[37.22, -80.42], controls=(WidgetControl(options=['position', 'transparent_bg'], widget=HBox(childr…"
      ]
     },
     "metadata": {},
     "output_type": "display_data"
    }
   ],
   "source": [
    "ndwbi = image.normalizedDifference(['B3', 'B5']);  \n",
    "vizParams = {\n",
    "    'min': -1, \n",
    "    'max': 0.5,\n",
    "    'palette': waterPalette\n",
    "}\n",
    "\n",
    "map4 = build_map(lat, lon, zoom, vizParams, ndwbi, name)\n",
    "display(map4)"
   ]
  },
  {
   "cell_type": "markdown",
   "metadata": {},
   "source": [
    "You can combine the code blocks to compare the actual values at different pixel locations. Use inspector to test out different land areas.\n",
    "\n",
    "> **Question 2**: Compare NDWI and NDWBI. What do you observe? What do each of the indices try to focus on?\n",
    "\n",
    "#### Normalized Difference Bare Index (NDBI)\n",
    "\n",
    "The Normalized Difference Bare Index (NDBI) was developed by [Zha, 2003)](http://www.tandfonline.com/doi/abs/10.1080/01431160304987) to aid in the differentiation of urban areas by using a combination of the shortwave and near infrared. \n",
    "\n",
    "$$\\text{NDBI} = (\\text{SWIR} - \\text{NIR}) / (\\text{SWIR} + \\text{NIR})$$\n",
    "\n",
    "Note that NDBI is the negative of NDWI. Compute NDBI and display with a suitable palette. (Check [this reference](https://developer.mozilla.org/en-US/docs/Web/JavaScript/Reference/Global_Objects/Array) to demystify the palette reversal)"
   ]
  },
  {
   "cell_type": "code",
   "execution_count": 51,
   "metadata": {},
   "outputs": [
    {
     "data": {
      "application/vnd.jupyter.widget-view+json": {
       "model_id": "b62955022ace4d49a58c5100ee38c891",
       "version_major": 2,
       "version_minor": 0
      },
      "text/plain": [
       "Map(center=[37.22, -80.42], controls=(WidgetControl(options=['position', 'transparent_bg'], widget=HBox(childr…"
      ]
     },
     "metadata": {},
     "output_type": "display_data"
    }
   ],
   "source": [
    "ndbi = image.normalizedDifference(['B6', 'B5']); \n",
    "# Reverse the water palette\n",
    "barePalette =  waterPalette.copy()\n",
    "barePalette.reverse() \n",
    "vizParams = {\n",
    "    'min': -1, \n",
    "    'max': 0.5,\n",
    "    'palette': barePalette\n",
    "}\n",
    "  \n",
    "map4 = build_map(lat, lon, zoom, vizParams, ndbi, name)\n",
    "display(map4)"
   ]
  },
  {
   "cell_type": "markdown",
   "metadata": {},
   "source": [
    "#### Burned Area Index (BAI) \n",
    "\n",
    "The Burned Area Index (BAI) was developed by [Chuvieco et al. (2002)](http://www.tandfonline.com/doi/abs/10.1080/01431160210153129) to assist in the delineation of burn scars and assessment of burn severity. It is based on maximizing the spectral characteristics of charcoal reflectance. To examine burn indices, load an image from 2013 showing the [Rim fire](https://en.wikipedia.org/wiki/Rim_Fire) in the Sierra Nevadas. We'll start by creating a true image of the area to see how well this index highlights the presence of wildfire."
   ]
  },
  {
   "cell_type": "code",
   "execution_count": 52,
   "metadata": {},
   "outputs": [
    {
     "data": {
      "application/vnd.jupyter.widget-view+json": {
       "model_id": "8216514cb9c3407c9327f84b169dd0be",
       "version_major": 2,
       "version_minor": 0
      },
      "text/plain": [
       "Map(center=[37.85, -120.083], controls=(WidgetControl(options=['position', 'transparent_bg'], widget=HBox(chil…"
      ]
     },
     "metadata": {},
     "output_type": "display_data"
    }
   ],
   "source": [
    "lat = 37.850; lon = -120.083; \n",
    "zoom = 11;\n",
    "image_collection_name = \"LANDSAT/LC08/C01/T1_TOA\"\n",
    "date_start = '2013-08-17'\n",
    "date_end = '2013-09-27'\n",
    "name = 'Landsat  8 TOA spectrum in Blacksburg, VA'\n",
    "point = ee.Geometry.Point([lon, lat])\n",
    "\n",
    "image = (\n",
    "    ee.ImageCollection(image_collection_name)\n",
    "         .filterBounds(point)\n",
    "         .filterDate(date_start, date_end)\n",
    "         .sort('CLOUD_COVER')\n",
    "         .first()\n",
    ")\n",
    "\n",
    "bands = ['B4', 'B3', 'B2']\n",
    "\n",
    "vizParams = {\n",
    "    'bands': bands, \n",
    "    'min': 0, \n",
    "    'max': 0.3\n",
    "}\n",
    "\n",
    "# Define a map centered on southern Maine.\n",
    "map = build_map(lat, lon, zoom, vizParams, image, name)\n",
    "map.add_ee_layer(image, vizParams)\n",
    "display(map)"
   ]
  },
  {
   "cell_type": "markdown",
   "metadata": {},
   "source": [
    "Closely examine the true color display of this image. Can you spot where the fire occurred? If difficult, let's look at the burn index."
   ]
  },
  {
   "cell_type": "code",
   "execution_count": 55,
   "metadata": {},
   "outputs": [
    {
     "data": {
      "application/vnd.jupyter.widget-view+json": {
       "model_id": "3a72cffc24d44578952831b4960a0f4f",
       "version_major": 2,
       "version_minor": 0
      },
      "text/plain": [
       "Map(center=[37.85, -120.083], controls=(WidgetControl(options=['position', 'transparent_bg'], widget=HBox(chil…"
      ]
     },
     "metadata": {},
     "output_type": "display_data"
    }
   ],
   "source": [
    "# Build Burn Index expression\n",
    "exp = '1.0  / ((0.1 - RED)**2 + (0.06 - NIR)**2)';\n",
    "bai = image.expression(exp, \n",
    "                       {\n",
    "                            'NIR': image.select('B5'), \n",
    "                            'RED': image.select('B4') \n",
    "                       }\n",
    "                      );\n",
    "                                \n",
    "burnPalette = ['green', 'blue', 'yellow', 'red'];\n",
    "\n",
    "vizParams = {\n",
    "    'min': 0, \n",
    "    'max': 400,\n",
    "    'palette': burnPalette\n",
    "}\n",
    "\n",
    "# Define a map centered on Northern California\n",
    "map5 = build_map(lat, lon, zoom, vizParams, bai, name)\n",
    "display(map5)"
   ]
  },
  {
   "cell_type": "markdown",
   "metadata": {},
   "source": [
    "The charcoal burn area is now very evident. Being that Landsat has historical data and a wide array of sensors, this can be a powerful way to understand natural phenomena. \n",
    "\n",
    "> **Question 3**: Compare NDBI and the BAI displayed results -- what do you observe?\n",
    "\n",
    "#### Normalized Burn Ratio Thermal (NBRT)\n",
    "\n",
    "The Normalized Burn Ratio Thermal (NBRT) was developed based on the idea that burned land has low NIR reflectance (less vegetation), high SWIR reflectance (think ash), and high brightness temperature ([Holden et al. 2005](http://www.tandfonline.com/doi/abs/10.1080/01431160500239008)). Unlike the other indices, a lower NBRT means a higher likelihood of recent burn (for visualization, reverse the scale). This index can be used to diagnose the severity of wildfires (see [van Wagtendonk et al. 2004](http://www.sciencedirect.com/science/article/pii/S003442570400152X))."
   ]
  },
  {
   "cell_type": "code",
   "execution_count": 56,
   "metadata": {},
   "outputs": [
    {
     "data": {
      "application/vnd.jupyter.widget-view+json": {
       "model_id": "1f4dfc3c34244ba9aebc056ecab611fa",
       "version_major": 2,
       "version_minor": 0
      },
      "text/plain": [
       "Map(center=[37.85, -120.083], controls=(WidgetControl(options=['position', 'transparent_bg'], widget=HBox(chil…"
      ]
     },
     "metadata": {},
     "output_type": "display_data"
    }
   ],
   "source": [
    "   \n",
    "# Build Burn Index expression\n",
    "exp = '(NIR - 0.0001 * SWIR *  Temp) / (NIR + 0.0001 * SWIR * Temp)'\n",
    "nbrt = image.expression(exp, {\n",
    "        'NIR': image.select('B5'),   \n",
    "        'SWIR': image.select('B7'),   \n",
    "        'Temp': image.select('B11')  \n",
    "        });  \n",
    "vizParams = {\n",
    "    'min': 1, \n",
    "    'max': 0.9,\n",
    "    'palette': burnPalette\n",
    "}\n",
    "\n",
    "map6 = build_map(lat, lon, zoom, vizParams, nbrt, name)\n",
    "display(map6)\n",
    "#Map.addLayer(nbrt, {min: 1, max: 0.9,  palette: burnPalette}, 'NBRT'); "
   ]
  },
  {
   "cell_type": "markdown",
   "metadata": {},
   "source": [
    "#### Normalized Difference Snow Index (NDSI)\n",
    "\n",
    "The Normalized Difference Snow Index (NDSI) was designed to estimate the amount of a pixel covered in snow ([Riggs et al. 1994](http://ieeexplore.ieee.org/xpls/abs_all.jsp?arnumber=399618&tag=1)).\n",
    "\n",
    "$$\\text{NDSI} = (\\text{green} - \\text{SWIR}) /(\\text{green} + \\text{SWIR})$$\n",
    "\n",
    "Let's look at Aspen, Colorado and use Landsat 8 data in the winter. You can use the layer manager to turn on and off the snow layer to compare results with the true color image. How does it compare? Reference the spectral reflectance chart at the beginning of the lab and look at the profile for snow. You will see that it has a distinct profile. In the image below, it does a very good job of matching the true color image - valleys and roads that do not have snow on them are accurately shown. "
   ]
  },
  {
   "cell_type": "code",
   "execution_count": 62,
   "metadata": {},
   "outputs": [
    {
     "data": {
      "application/vnd.jupyter.widget-view+json": {
       "model_id": "5b93fc6268b6465e9de0702561b21971",
       "version_major": 2,
       "version_minor": 0
      },
      "text/plain": [
       "Map(center=[39.19, -106.81], controls=(WidgetControl(options=['position', 'transparent_bg'], widget=HBox(child…"
      ]
     },
     "metadata": {},
     "output_type": "display_data"
    }
   ],
   "source": [
    "lat = 39.19; lon = -106.81; \n",
    "zoom = 11;\n",
    "image_collection_name = \"LANDSAT/LC08/C01/T1_TOA\"\n",
    "date_start = '2013-11-17'\n",
    "date_end = '2014-03-27'\n",
    "name = 'Snow'\n",
    "point = ee.Geometry.Point([lon, lat])\n",
    "\n",
    "image = (\n",
    "    ee.ImageCollection(image_collection_name)\n",
    "         .filterBounds(point)\n",
    "         .filterDate(date_start, date_end)\n",
    "         .sort('CLOUD_COVER')\n",
    "         .first()\n",
    ")\n",
    "\n",
    "bands = ['B4', 'B3', 'B2']\n",
    "\n",
    "vizParams = {\n",
    "    'bands': bands, \n",
    "    'min': 0, \n",
    "    'max': 0.3\n",
    "}\n",
    "          \n",
    "ndsi = image.normalizedDifference(['B3', 'B6']);      \n",
    "snowPalette = ['red', 'green', 'blue', 'white'];   \n",
    "\n",
    "vizParams2 = {\n",
    "    'min': -0.5, \n",
    "    'max': 0.7,\n",
    "    'palette': snowPalette\n",
    "}\n",
    "\n",
    "# Define a map centered on southern Maine.\n",
    "map7 = build_map(lat, lon, zoom, vizParams, image, name)\n",
    "map7.add_ee_layer(ndsi, vizParams2)\n",
    "display(map7)"
   ]
  },
  {
   "cell_type": "markdown",
   "metadata": {},
   "source": [
    "## Transformations\n",
    "\n",
    "We've gone over indices to highlight unique characteristics in our imagery by utilizing the bands outside of the visible spectrum. \n",
    "\n",
    "Linear transforms are linear combinations of input pixel values. These can result from a variety of different strategies, but a common theme is that pixels are treated as arrays of band values, and we can use these arrays to create weighted values for specific purposes.\n",
    "\n",
    "#### Tasseled cap (TC)\n",
    "\n",
    "Based on observations of agricultural land covers in the NIR-red spectral space, [Kauth and Thomas (1976)](http://citeseerx.ist.psu.edu/viewdoc/download?doi=10.1.1.461.6381&rep=rep1&type=pdf) devised a [rotational transform](https://en.wikipedia.org/wiki/Change_of_basis) of the form \n",
    "\n",
    "$$p_1 = R^T p_0$$\n",
    "\n",
    "where \n",
    "\n",
    "$$p_0$$ is the original pixel vector (a stack of the *p* band values as an [Array](https://developers.google.com/earth-engine/arrays_intro)) \n",
    "\n",
    "**$$p_1$$** is the rotated pixel\n",
    "\n",
    "**R** is an [orthonormal basis](https://en.wikipedia.org/wiki/Orthonormal_basis) of the new space (therefore is $$R^T$$ its inverse). Kauth and Thomas found **R** by defining the first axis of their transformed space to be parallel to the soil line in the following chart, then used the [Gram-Schmidt process](https://en.wikipedia.org/wiki/Gram–Schmidt_process) to find the other basis vectors.\n",
    "\n",
    "![Tassled Cap](im/im_03_07.png)\n",
    "\n",
    "Assuming that **R** is available, one way to implement this rotation in Earth Engine is with arrays. Specifically, make an array of TC coefficients. Since these coefficients are for the TM sensor, get a less cloudy Landsat 5 scene. To do the matrix multiplication, first convert the input image from a multi-band image to an array image in which each pixel position stores an array. Do the matrix multiplication, then convert back to a multi-band image."
   ]
  },
  {
   "cell_type": "code",
   "execution_count": 71,
   "metadata": {},
   "outputs": [
    {
     "data": {
      "application/vnd.jupyter.widget-view+json": {
       "model_id": "a7d6c0585b9548da90ed17bcbb40955f",
       "version_major": 2,
       "version_minor": 0
      },
      "text/plain": [
       "Map(center=[39.19, -106.81], controls=(WidgetControl(options=['position', 'transparent_bg'], widget=HBox(child…"
      ]
     },
     "metadata": {},
     "output_type": "display_data"
    }
   ],
   "source": [
    "lat = 39.19; lon = -106.81; \n",
    "zoom = 11;\n",
    "image_collection_name = \"LANDSAT/LT05/C01/T1_TOA\"\n",
    "date_start = '2008-06-01'\n",
    "date_end = '2008-12-01'\n",
    "name = 'Snow'\n",
    "point = ee.Geometry.Point([lon, lat])\n",
    "\n",
    "image = (\n",
    "    ee.ImageCollection(image_collection_name)\n",
    "         .filterBounds(point)\n",
    "         .filterDate(date_start, date_end)\n",
    "         .sort('CLOUD_COVER')\n",
    "         .first()\n",
    ")\n",
    "coefficients = ee.Array([    \n",
    "  [0.3037, 0.2793, 0.4743, 0.5585, 0.5082, 0.1863],    \n",
    "  [-0.2848, -0.2435, -0.5436, 0.7243, 0.0840, -0.1800],\n",
    "  [0.1509, 0.1973, 0.3279, 0.3406, -0.7112, -0.4572],\n",
    "  [-0.8242, 0.0849, 0.4392, -0.0580, 0.2012, -0.2768],\n",
    "  [-0.3280, 0.0549, 0.1075, 0.1855, -0.4357, 0.8085],\n",
    "  [0.1084, -0.9022, 0.4120, 0.0573, -0.0251, 0.0238]\n",
    "]);  \n",
    "\n",
    "bands = ['B1', 'B2', 'B3', 'B4', 'B5', 'B7']\n",
    "\n",
    "# Make an Array Image,  with a 1-D Array per pixel.\n",
    "\n",
    "arrayImage1D =  image.select(bands).toArray();\n",
    "# Make an Array Image  with a 2-D Array per pixel, 6x1.\n",
    "arrayImage2D = arrayImage1D.toArray(1);  \n",
    "componentsImage = (ee.Image(coefficients).matrixMultiply(arrayImage2D)\n",
    "    # Get rid of the extra  dimensions.\n",
    "        .arrayProject([0])  \n",
    "    # Get a multi-band image  with TC-named bands.  \n",
    "        .arrayFlatten(\n",
    "          [['brightness', 'greenness', 'wetness', 'fourth', 'fifth', 'sixth']]\n",
    "        ))\n",
    "\n",
    "vizParams = {\n",
    "  'bands': ['brightness', 'greenness', 'wetness'],\n",
    "  'min': -0.1, \n",
    "    'max': [0.5,  0.1, 0.1]\n",
    "};\n",
    "\n",
    "map8 = build_map(lat, lon, zoom, vizParams, componentsImage, 'TC components')\n",
    "display(map8)\n",
    "\n"
   ]
  },
  {
   "cell_type": "code",
   "execution_count": null,
   "metadata": {},
   "outputs": [],
   "source": []
  },
  {
   "cell_type": "markdown",
   "metadata": {},
   "source": [
    "> **Question 3:** Upload the a tasseled cap image from a point near Blacksburg, VA and interpret the output. what are some of the values that you can extract when using **Inspector**? Are the results meaningful? "
   ]
  },
  {
   "cell_type": "markdown",
   "metadata": {},
   "source": [
    "#### Principal Component Analysis (PCA)\n",
    "\n",
    "Like the Tasseled Cap transform, the [PCA transform](https://en.wikipedia.org/wiki/Principal_component_analysis) is a rotational transform in which the new basis is orthonormal, but the axes are determined from statistics of the input image, rather than empirical data. Specifically, the new basis is the [eigenvector](https://en.wikipedia.org/wiki/Eigenvalues_and_eigenvectors) of the image's [variance-covariance matrix](https://en.wikipedia.org/wiki/Covariance_matrix). As a result, the principal components are uncorrelated. To demonstrate, use the Landsat 8 image converted to an array image. Use the `reduceRegion()` [method](https://developers.google.com/earth-engine/reducers_reduce_region) to compute statistics (band covariances) for the image.\n",
    "\n",
    "A [*reducer*](https://developers.google.com/earth-engine/reducers_intro) is an object that tells Earth Engine what statistic to compute. Note that the result of the reduction is an object with one property, an array, that stores the covariance matrix. The next step is to compute the eigenvectors and eigenvalues of that covariance matrix. Since the eigenvalues are appended to the eigenvectors, slice the two apart and discard the eigenvectors. Perform the matrix multiplication, as with the TC components. Finally, convert back to a multi-band image and display the first PC.\n",
    "\n",
    "Use the [layer manager](https://developers.google.com/earth-engine/playground#layer-manager) to stretch the result appropriately. What do you observe? Try displaying some of the other principal components. The image parameters in the code chunk below are built specifically for Principal Component 1. "
   ]
  },
  {
   "cell_type": "code",
   "execution_count": 83,
   "metadata": {},
   "outputs": [
    {
     "data": {
      "application/vnd.jupyter.widget-view+json": {
       "model_id": "a7a5f882043c4881a0c75c991f5d7986",
       "version_major": 2,
       "version_minor": 0
      },
      "text/plain": [
       "Map(center=[37.22, -80.42], controls=(WidgetControl(options=['position', 'transparent_bg'], widget=HBox(childr…"
      ]
     },
     "metadata": {},
     "output_type": "display_data"
    }
   ],
   "source": [
    "lat = 37.22; lon = -80.42; \n",
    "zoom = 11;\n",
    "image_collection_name = \"LANDSAT/LC08/C01/T1_TOA\"\n",
    "date_start = '2013-11-17'\n",
    "date_end = '2014-03-27'\n",
    "name = 'PCA'\n",
    "point = ee.Geometry.Point([lon, lat])\n",
    "\n",
    "image = (\n",
    "    ee.ImageCollection(image_collection_name)\n",
    "         .filterBounds(point)\n",
    "         .filterDate(date_start, date_end)\n",
    "         .sort('CLOUD_COVER')\n",
    "         .first()\n",
    ")\n",
    "\n",
    "bands = ['B2', 'B3', 'B4', 'B5', 'B6', 'B7', 'B10', 'B11']\n",
    "\n",
    "arrayImage =  image.select(bands).toArray();  \n",
    "covar = arrayImage.reduceRegion(\n",
    "  reducer = ee.Reducer.covariance(),\n",
    "  maxPixels = 1000000000\n",
    ");\n",
    "\n",
    "\n",
    "covarArray = ee.Array(covar.get('array'));  \n",
    "eigens = covarArray.eigen();  \n",
    "eigenVectors = eigens.slice(1, 1); \n",
    "\n",
    "principalComponents = ee.Image(eigenVectors).matrixMultiply(arrayImage.toArray(1));  \n",
    "pcImage = (principalComponents      \n",
    "                        .arrayProject([0])    \n",
    "    # Make the one band  array image a multi-band image, [] -> image.    \n",
    "                    .arrayFlatten(\n",
    "          [['pc1', 'pc2', 'pc3', 'pc4', 'pc5', 'pc6', 'pc7', 'pc8']]\n",
    "        )); \n",
    "\n",
    "#Customize the visual parameters for PC1\n",
    "vizParams = {\n",
    "  \"opacity\":1,\n",
    "  \"bands\": [\"pc1\"],\n",
    "  \"min\":-420,\n",
    "    \"max\":-400,\n",
    "  \"gamma\":1};\n",
    "\n",
    "map8 = build_map(lat, lon, zoom, vizParams, pcImage.select('pc1'), 'TC components')\n",
    "display(map8)\n"
   ]
  },
  {
   "cell_type": "markdown",
   "metadata": {},
   "source": [
    "> **Question 4**: How much did you need to stretch the results to display outputs for principal component 2? \n",
    ">\n",
    "> Display and upload images of each the other principal components, stretching each band as needed for visual interpretation and indicating how you selected the min and max values. \n",
    ">\n",
    "> How do you interpret each PC band? On what basis do you make that interpretation? "
   ]
  },
  {
   "cell_type": "markdown",
   "metadata": {},
   "source": [
    "#### Spectral Unmixing\n",
    "\n",
    "The [linear spectral mixing model](http://ieeexplore.ieee.org/xpls/abs_all.jsp?arnumber=974727&tag=1) is based on the assumption that each pixel is a mixture of \"pure\" spectra. The pure spectra, called *endmembers*, are from land cover classes such as water, bare land, vegetation. The goal is to solve the following equation for **f**, the *P*x1 vector of endmember fractions in the pixel:  \n",
    "\n",
    "$$Sf = p$$\n",
    "\n",
    "where **S** is a *B*x*P* matrix in which the columns are *P* pure endmember spectra (known) and **p** is the *B*x1 pixel vector when there are *B* bands (known). In this example, $B= 6$: \n",
    "\n",
    "The first step is to get the endmember spectra, which we can do by computing the mean spectra in polygons around regions of pure land cover. In this example, we will use a location in northern Washington State and use the geometry tools to select homogeneous areas of bare land, vegetation and water.\n",
    "\n",
    "Using the [geometry drawing tools](https://developers.google.com/earth-engine/playground#geometry-tools), make three layers clicking **+ new layer**. In the first layer, digitize a polygon around pure bare land, in the second layer make a polygon of pure vegetation, and in the third layer, make a water polygon. Name the imports `bare`, `water` and, and `vegetation`, respectively. \n",
    "\n",
    "Note: For a starting point, we included some basic polygons but feel free to replace in a region of your choice. "
   ]
  },
  {
   "cell_type": "code",
   "execution_count": 89,
   "metadata": {},
   "outputs": [],
   "source": [
    "lat = 48.11; lon = -123.25; \n",
    "zoom = 11;\n",
    "image_collection_name = \"LANDSAT/LC08/C01/T1_TOA\"\n",
    "date_start = '2013-06-17'\n",
    "date_end = '2014-03-27'\n",
    "name = 'PCA'\n",
    "point = ee.Geometry.Point([lon, lat])\n",
    "\n",
    "image = (\n",
    "    ee.ImageCollection(image_collection_name)\n",
    "         .filterBounds(point)\n",
    "         .filterDate(date_start, date_end)\n",
    "         .sort('CLOUD_COVER')\n",
    "         .first()\n",
    ")\n",
    "\n",
    "# Polygons of bare earth, water and vegetation\n",
    "bare = (\n",
    "    ee.Geometry.Polygon(\n",
    "        [[[-123.2370707334838, 48.1151452657945],\n",
    "          [-123.2370707334838, 48.11351208612645],\n",
    "          [-123.23410957473136, 48.11351208612645],\n",
    "          [-123.23410957473136, 48.1151452657945]]]))\n",
    "water = (\n",
    "    ee.Geometry.Polygon(\n",
    "        [[[-123.2748188020549, 48.12059599002954],\n",
    "          [-123.2748188020549, 48.118074835535865],\n",
    "          [-123.2673086168132, 48.118074835535865],\n",
    "          [-123.2673086168132, 48.12059599002954]]]))\n",
    "vegetation = (\n",
    "    ee.Geometry.Polygon(\n",
    "        [[[-123.27462568300582, 48.11533866992809],\n",
    "          [-123.27462568300582, 48.114163936320416],\n",
    "          [-123.27215805071212, 48.114163936320416],\n",
    "          [-123.27215805071212, 48.11533866992809]]]))\n",
    "unmixImage = image.select(['B2', 'B3', 'B4', 'B5', 'B6', 'B7']);"
   ]
  },
  {
   "cell_type": "code",
   "execution_count": 91,
   "metadata": {},
   "outputs": [
    {
     "data": {
      "text/plain": [
       "\"\\nprint(Chart.image.regions(unmixImage, ee.FeatureCollection([\\n    ee.Feature(bare, {label: 'bare'}), \\n    ee.Feature(water, {label: 'water'}),\\n    ee.Feature(vegetation, {label: 'vegetation'})]), \\n  ee.Reducer.mean(), 30, 'label', [0.48, 0.56, 0.65, 0.86, 1.61, 2.2]));\\n  \\n\""
      ]
     },
     "execution_count": 91,
     "metadata": {},
     "output_type": "execute_result"
    }
   ],
   "source": [
    "unmixImage = image.select(['B2', 'B3', 'B4', 'B5', 'B6', 'B7']);  \n",
    "\n",
    "# TODO: Need to update charts \n",
    "\"\"\"\n",
    "print(Chart.image.regions(unmixImage, ee.FeatureCollection([\n",
    "    ee.Feature(bare, {label: 'bare'}), \n",
    "    ee.Feature(water, {label: 'water'}),\n",
    "    ee.Feature(vegetation, {label: 'vegetation'})]), \n",
    "  ee.Reducer.mean(), 30, 'label', [0.48, 0.56, 0.65, 0.86, 1.61, 2.2]));\n",
    "  \n",
    "\"\"\""
   ]
  },
  {
   "cell_type": "markdown",
   "metadata": {},
   "source": [
    "Check the polygons you made by charting mean spectra in them using [Chart.image.regions()](https://developers.google.com/earth-engine/charts_image_regions):\n",
    "\n",
    "Your chart should look something like:\n",
    "\n",
    "![Charting Spectra](im/im_04_03.png)"
   ]
  },
  {
   "cell_type": "markdown",
   "metadata": {},
   "source": [
    "Use the [reduceRegion() method](https://developers.google.com/earth-engine/reducers_reduce_region) to compute mean spectra in the polygons you made. Note that the return value of reduceRegion() is a Dictionary, with reducer output keyed by band name. Get the means as a list by calling `values()`. Each of these three lists represents a mean spectrum vector. Stack the vectors into a 6x3 Array of endmembers by concatenating them along the 1-axis (or columns direction).\n",
    "\n",
    "Turn the 6-band input image into an image in which each pixel is a 1D vector (`toArray()`), then into an image in which each pixel is a 6x1 matrix (`toArray(1)`). Now that the dimensions match, in each pixel, solve the equation for **f**. Finally, convert the result from a 2D array image into a 1D array image (`arrayProject()`), then to a multi-band image (`arrayFlatten()`). The three bands correspond to the estimates of bare, vegetation and water fractions in **f**. Display the result where bare is red, vegetation is green, and water is blue (the `addLayer()` call expects bands in order, RGB)"
   ]
  },
  {
   "cell_type": "code",
   "execution_count": 94,
   "metadata": {},
   "outputs": [
    {
     "data": {
      "application/vnd.jupyter.widget-view+json": {
       "model_id": "781ff5c9e9614029bb31417407cf5e6e",
       "version_major": 2,
       "version_minor": 0
      },
      "text/plain": [
       "Map(center=[48.11, -123.25], controls=(WidgetControl(options=['position', 'transparent_bg'], widget=HBox(child…"
      ]
     },
     "metadata": {},
     "output_type": "display_data"
    }
   ],
   "source": [
    "bareMean = unmixImage.reduceRegion(\n",
    "  ee.Reducer.mean(), bare, 30).values();   \n",
    "waterMean = unmixImage.reduceRegion(\n",
    "  ee.Reducer.mean(), water, 30).values();   \n",
    "vegMean = unmixImage.reduceRegion(\n",
    "  ee.Reducer.mean(), vegetation, 30).values();\n",
    "\n",
    "endmembers = ee.Array.cat([bareMean,  vegMean, waterMean], 1);  \n",
    "arrayImage = unmixImage.toArray().toArray(1);\n",
    "unmixed =  ee.Image(endmembers).matrixSolve(arrayImage);\n",
    "unmixedImage = unmixed.arrayProject([0]).arrayFlatten(\n",
    "          [['bare', 'veg', 'water']]\n",
    "        );\n",
    "\n",
    "map8 = build_map(lat, lon, zoom, {}, unmixedImage, 'unmixedImage')\n",
    "display(map8)"
   ]
  },
  {
   "cell_type": "markdown",
   "metadata": {},
   "source": [
    "> Question 5: Repeat this process for Blacksburg, VA. Upload the mean spectra chart you generated for bare, water, and land and the map. Interpret the output of the image by selecting different pixels with **Inspector**"
   ]
  },
  {
   "cell_type": "markdown",
   "metadata": {},
   "source": [
    "#### Hue-Saturation-Value Transform\n",
    "\n",
    "The Hue-Saturation-Value (HSV) model [is a color transform of the RGB color space](https://en.wikipedia.org/wiki/HSL_and_HSV). Among many other things, it is useful for [pan-sharpening](https://en.wikipedia.org/wiki/Pansharpened_image). This involves converting an RGB to HSV, swapping the panchromatic band for the value (V), then converting back to RGB. For example, using the Landsat 8 scene:"
   ]
  },
  {
   "cell_type": "code",
   "execution_count": 96,
   "metadata": {},
   "outputs": [
    {
     "data": {
      "application/vnd.jupyter.widget-view+json": {
       "model_id": "c2e0a29d5c2041098bfd4521dc861ed4",
       "version_major": 2,
       "version_minor": 0
      },
      "text/plain": [
       "Map(center=[37.22, -80.42], controls=(WidgetControl(options=['position', 'transparent_bg'], widget=HBox(childr…"
      ]
     },
     "metadata": {},
     "output_type": "display_data"
    }
   ],
   "source": [
    "lat = 37.22; lon = -80.42; \n",
    "zoom = 11;\n",
    "image_collection_name = \"LANDSAT/LC08/C01/T1_TOA\"\n",
    "date_start = '2013-06-17'\n",
    "date_end = '2014-03-27'\n",
    "name = 'Hue Saturation'\n",
    "point = ee.Geometry.Point([lon, lat])\n",
    "\n",
    "image = (\n",
    "    ee.ImageCollection(image_collection_name)\n",
    "         .filterBounds(point)\n",
    "         .filterDate(date_start, date_end)\n",
    "         .sort('CLOUD_COVER')\n",
    "         .first()\n",
    ")\n",
    "\n",
    "# Convert Landsat RGB bands to HSV   \n",
    "hsv = image.select(['B4', 'B3', 'B2']).rgbToHsv();\n",
    "# Convert back to RGB,  swapping the image panchromatic band for the value.\n",
    "rgb = ee.Image.cat([\n",
    "  hsv.select('hue'),\n",
    "  hsv.select('saturation'),\n",
    "  image.select(['B8'])]).hsvToRgb();\n",
    "\n",
    "map8 = build_map(lat, lon, zoom, {'max': 0.4}, rgb, 'hue saturation')\n",
    "display(map8)\n"
   ]
  },
  {
   "cell_type": "markdown",
   "metadata": {},
   "source": [
    "> **Question 6**: Compare the pan-sharpened image with the original image. What do you notice that's different? The same? "
   ]
  },
  {
   "cell_type": "markdown",
   "metadata": {},
   "source": [
    "## Spectral Transformation\n",
    "\n",
    "### Linear Filtering\n",
    "\n",
    "In the present context, linear *filtering* (or [convolution](http://www.dspguide.com/ch24/1.htm)) refers to a linear combination of pixel values in a 'neighborhood', or [kernel](https://en.wikipedia.org/wiki/Kernel_(image_processing)), where the weights of the kernel determine the coefficients in the linear combination (for this lab, the terms *kernel* and *filter* are interchangeable.) Filtering an image can be useful for extracting image information at different [spatial frequencies](http://www.dspguide.com/ch24/5.htm) by reducing noise. For this reason, smoothing filters are called *low-pass* filters (they let *low*-frequency data *pass* through) and edge detection filters are called *high-pass* filters. To implement filtering in Earth Engine use [image.convolve()](https://developers.google.com/earth-engine/guides/image_convolutions) with an ee.Kernel for the argument."
   ]
  },
  {
   "cell_type": "markdown",
   "metadata": {},
   "source": [
    "#### Smoothing\n",
    "\n",
    "Smoothing means to convolve an image with a smoothing kernel. \n",
    "\n",
    "A simple smoothing filter is a square kernel with uniform weights that sum to one. Convolving with this kernel sets each pixel to the mean of its neighborhood. Print a square kernel with uniform weights (this is sometimes called a \"pillbox\" or \"boxcar\" filter):\n",
    "\n",
    "Expand the kernel object in the console to see the weights. This kernel is defined by how many pixels it covers (i.e. `radius` is in units of 'pixels'). A kernel with radius defined in 'meters' adjusts its size in pixels, so you can't visualize its weights, but it's more flexible in terms of adapting to inputs of different scale. In the following, use kernels with radius defined in meters except to visualize the weights."
   ]
  },
  {
   "cell_type": "code",
   "execution_count": 105,
   "metadata": {},
   "outputs": [
    {
     "name": "stdout",
     "output_type": "stream",
     "text": [
      "A uniform kernel: ee.Kernel({\n",
      "  \"functionInvocationValue\": {\n",
      "    \"functionName\": \"Kernel.square\",\n",
      "    \"arguments\": {\n",
      "      \"radius\": {\n",
      "        \"constantValue\": 2\n",
      "      }\n",
      "    }\n",
      "  }\n",
      "})\n"
     ]
    }
   ],
   "source": [
    "lat = 37.22; lon = -80.42; \n",
    "zoom = 14;\n",
    "image_collection_name = \"USDA/NAIP/DOQQ\"\n",
    "date_start = '2013-06-17'\n",
    "date_end = '2017-03-27'\n",
    "name = 'NAIP'\n",
    "point = ee.Geometry.Point([lon, lat])\n",
    "\n",
    "image = (\n",
    "    ee.ImageCollection(image_collection_name)\n",
    "         .filterBounds(point)\n",
    "         .filterDate(date_start, date_end)\n",
    "         .sort('CLOUD_COVER')\n",
    "         .first()\n",
    ")\n",
    "\n",
    "# Print a uniform kernel to see its weights.\n",
    "print('A uniform kernel:', ee.Kernel.square(2));"
   ]
  },
  {
   "cell_type": "markdown",
   "metadata": {},
   "source": [
    "![Kernel Description](im/im_03_11.png)\n",
    "\n",
    "Define a kernel with 2-meter radius (which corresponds to how many pixels in the NAIP image? Hint: try [projection.nominalScale()](https://developers.google.com/earth-engine/guides/projections)), convolve the image with the kernel and compare the input image with the smoothed image:"
   ]
  },
  {
   "cell_type": "code",
   "execution_count": 108,
   "metadata": {},
   "outputs": [
    {
     "data": {
      "application/vnd.jupyter.widget-view+json": {
       "model_id": "2e7327d1714f414f90b89c2db94ab51f",
       "version_major": 2,
       "version_minor": 0
      },
      "text/plain": [
       "Map(center=[37.22, -80.42], controls=(WidgetControl(options=['position', 'transparent_bg'], widget=HBox(childr…"
      ]
     },
     "metadata": {},
     "output_type": "display_data"
    }
   ],
   "source": [
    "# Define a square, uniform kernel.\n",
    "uniformKernel = ee.Kernel.square(\n",
    " radius =  2,\n",
    " units = 'meters',\n",
    ");\n",
    "\n",
    "# Filter the image by convolving with the smoothing filter.\n",
    "smoothed = image.convolve(uniformKernel);\n",
    "vizParams = {\n",
    "  'min': 0.0,\n",
    "  'max': 255.0,\n",
    "};\n",
    "\n",
    "map9 = build_map(lat, lon, zoom, vizParams, smoothed, 'Smoothed')\n",
    "display(map9)"
   ]
  },
  {
   "cell_type": "markdown",
   "metadata": {},
   "source": [
    "To make the image even smoother, try increasing the size of the neighborhood by increasing the pixel radius. to the human eye, the image is blurrier, but in many Machine Learning and Computer Vision algorithms, this process improves our output by reducing noise. \n",
    "\n",
    "\n",
    "A Gaussian kernel can also be used for smoothing. Think of filtering with a Gaussian kernel as computing the weighted average in each pixel's neighborhood. "
   ]
  },
  {
   "cell_type": "code",
   "execution_count": 110,
   "metadata": {},
   "outputs": [
    {
     "name": "stdout",
     "output_type": "stream",
     "text": [
      "A Gaussian kernel: ee.Kernel({\n",
      "  \"functionInvocationValue\": {\n",
      "    \"functionName\": \"Kernel.gaussian\",\n",
      "    \"arguments\": {\n",
      "      \"radius\": {\n",
      "        \"constantValue\": 2\n",
      "      }\n",
      "    }\n",
      "  }\n",
      "})\n"
     ]
    },
    {
     "data": {
      "application/vnd.jupyter.widget-view+json": {
       "model_id": "0fae8c53a5ca4369bef42a335cb65e57",
       "version_major": 2,
       "version_minor": 0
      },
      "text/plain": [
       "Map(center=[37.22, -80.42], controls=(WidgetControl(options=['position', 'transparent_bg'], widget=HBox(childr…"
      ]
     },
     "metadata": {},
     "output_type": "display_data"
    }
   ],
   "source": [
    "# Print a Gaussian kernel to see its weights.\n",
    "\n",
    "print('A Gaussian kernel:', ee.Kernel.gaussian(2));\n",
    "\n",
    "# Define a square Gaussian kernel:\n",
    "gaussianKernel = ee.Kernel.gaussian(\n",
    " radius =  2,\n",
    " units = 'meters',\n",
    ")\n",
    "\n",
    "# Filter the image by convolving with the smoothing filter.\n",
    "gaussiansmooth = image.convolve(gaussianKernel);\n",
    "\n",
    "map9 = build_map(lat, lon, zoom, vizParams, gaussiansmooth, 'Smoothed')\n",
    "display(map9)"
   ]
  },
  {
   "cell_type": "markdown",
   "metadata": {},
   "source": [
    "> **Question 7**: What happens as you increase the pixel radius for each smoothing? What differences can you discern between the weights and the visualizations of the two smoothing kernels?"
   ]
  },
  {
   "cell_type": "markdown",
   "metadata": {},
   "source": [
    "#### Edge Detection\n",
    "\n",
    "Convolving with an edge-detection kernel is used to find rapid changes in values that usually signify the edges of objects in the image data. \n",
    "\n",
    "A classic edge detection kernel is the [Laplacian](https://en.wikipedia.org/wiki/Discrete_Laplace_operator) kernel. Investigate the kernel weights and the image that results from convolving with the Laplacian. Other edge detection kernels include the [Sobel](https://en.wikipedia.org/wiki/Sobel_operator), [Prewitt](https://en.wikipedia.org/wiki/Prewitt_operator) and [Roberts](https://en.wikipedia.org/wiki/Roberts_cross) kernels. [Learn more about additional edge detection methods in Earth Engine](https://developers.google.com/earth-engine/image_edges).  "
   ]
  },
  {
   "cell_type": "code",
   "execution_count": 122,
   "metadata": {},
   "outputs": [
    {
     "data": {
      "application/vnd.jupyter.widget-view+json": {
       "model_id": "492f7b02b311483b93433454a45ec485",
       "version_major": 2,
       "version_minor": 0
      },
      "text/plain": [
       "Map(center=[37.22, -80.42], controls=(WidgetControl(options=['position', 'transparent_bg'], widget=HBox(childr…"
      ]
     },
     "metadata": {},
     "output_type": "display_data"
    }
   ],
   "source": [
    "# Define a Laplacian, or edge-detection kernel.\n",
    "laplace = ee.Kernel.laplacian8(normalize= False);\n",
    "edges = image.convolve(laplace);\n",
    "vizParams = {\n",
    "  'min': 0,\n",
    "  'max': 255,\n",
    "  'format': 'png'\n",
    "};\n",
    "zoom = 18\n",
    "\n",
    "map10 = build_map(lat, lon, zoom, vizParams, edges, 'Edge Detection')\n",
    "display(map10)"
   ]
  },
  {
   "cell_type": "markdown",
   "metadata": {
    "cell_id": "4312be08480d4feda3fe5e3a8a1dc948",
    "deepnote_cell_type": "markdown",
    "tags": []
   },
   "source": [
    "> **Question 8:** Choose another edge detection method and upload the image - what characteristics do you see, and how does it compare to Laplacian Edge detection? "
   ]
  },
  {
   "cell_type": "markdown",
   "metadata": {
    "created_in_deepnote_cell": true,
    "deepnote_cell_type": "markdown",
    "tags": []
   },
   "source": [
    "## Additional Exercises\n",
    "\n",
    "> **Question 9**: Look in google scholar to identify 2-3 publications that have used NDVI and two-three that used EVI. For what purposes were these indices used and what was the justification provided for that index? \n",
    "\n",
    "> **Question 10**: Discuss a spectral index that we did not cover in this lab relates to your area of research/interest. What is the the name of the spectral index, the formula used to calculate it, and what is it used to detect? Provide a citation of an academic article that has fruitfully used that index. \n",
    "\n",
    "> **Question 11**: Find 1-2 articles that use any of the linear transformation methods we practiced in this lab in the service of addressing an important social issue (e.g., one related to agriculture, environment, or development). Provide the citations and discussed how the transformation is used and how it's justified in the article. "
   ]
  },
  {
   "cell_type": "code",
   "execution_count": null,
   "metadata": {},
   "outputs": [],
   "source": []
  }
 ],
 "metadata": {
  "deepnote": {
   "is_reactive": false
  },
  "deepnote_execution_queue": [],
  "deepnote_notebook_id": "edacfa2e-10e3-4b48-aa79-3b55c12175eb",
  "kernelspec": {
   "display_name": "geo",
   "language": "python",
   "name": "geo"
  },
  "language_info": {
   "codemirror_mode": {
    "name": "ipython",
    "version": 3
   },
   "file_extension": ".py",
   "mimetype": "text/x-python",
   "name": "python",
   "nbconvert_exporter": "python",
   "pygments_lexer": "ipython3",
   "version": "3.7.10"
  }
 },
 "nbformat": 4,
 "nbformat_minor": 4
}
