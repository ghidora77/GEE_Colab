{
 "cells": [
  {
   "cell_type": "code",
   "execution_count": null,
   "id": "1330fcc2-815b-4208-b862-4cbc9eb8bc16",
   "metadata": {},
   "outputs": [],
   "source": []
  }
 ],
 "metadata": {
  "kernelspec": {
   "display_name": "geo",
   "language": "python",
   "name": "geo"
  },
  "language_info": {
   "name": ""
  }
 },
 "nbformat": 4,
 "nbformat_minor": 5
}
