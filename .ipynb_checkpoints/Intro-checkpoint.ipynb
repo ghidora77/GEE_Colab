{
 "cells": [
  {
   "cell_type": "markdown",
   "source": "# Google Earth Engine Introduction\n\n## Why Google Earth Engine? \n\nResearch in Remote Sensing has evolved drastically over the past few decades. \n\nIn the earliest years of remote sensing analysis, only a handful of governments had the capability to deploy satellites and reliably process the imagery, while the use was largely limited to the military and intelligence communities. In the late 1950s, the US and Europe established the National Aeronautics and Space Administration (NASA) and the origins of the European Space Agency (ESA) to support a civilian space program as well as space and aeronautics research. Even then, data access was unwieldy and costly - if a researcher had identified the data they needed, they would have to go through the highly complicated and time-intensive steps of downloading the data onto a mainframe computer with sufficient storage and processing capability t performing a series of pre-processing steps (e.g. orthorectification and atmospheric corrections), all before they could start analysis. \n\n**Enter Google Earth Engine (GEE).** As part of Google's quest to make the world's information universally accessible and useful, Google Earth Engine emerged in 2010 to aid in organizing and simplifying geospatial data in a way that supports an end-to-end solution. This is a valuable tool simplifies many of the historical problems that Remote Sensing researchers have struggled with. Google has collected and maintains petabytes of imagery from both public and private sources, including the most-used Landsat, MODIS, and Sentinel data. Additionally, GEE allows users to process the data and conduct sophisticated analysis within Google's Cloud environment (even allowing advanced Machine Learning using TensorFlow Processing Units). They geo-rectify the imagery and provide pre-built algorithms that facilitate analysis. In case you need to build your own algorithms, Google Earth Engine has  functionality within JavaScript and Python, which in turn extends the opportunities for processing data and displaying results. The user can even import their own data and work with it within GEE. Finally, the user owns the analysis and algorithms written within GEE, providing fair and open use.   \n\nAs researchers  involved in Remote Sensing, Google Earth Engine provides an invaluable toolset that you can use throughout your career. \n\n## License and Attribution\n\nThis work is licensed under a[ Creative Commons Attribution 4.0 International License](http://creativecommons.org/licenses/by/4.0/). The foundation of these lab exercises were generously shared with us by Nicholas Clinton (Google) and Dr. David Saah (University of San Francisco, Geospatial Analysis Lab). We thank them for this great public good and take responsibility for any errors that arose from our adaptation.\n\nElinor Ben-Ami and [Ozzy Campos](https://www.linkedin.com/in/adam-ozzy-c-553b37a9/) have extended and customized these labs and exercise and incorporated them into the course 'Remote Sensing for Social Science'.  ",
   "metadata": {
    "cell_id": "bb87216e22934de0b7ae8362d7bf001e",
    "tags": [],
    "deepnote_cell_type": "markdown",
    "deepnote_cell_height": 952
   }
  },
  {
   "cell_type": "markdown",
   "source": "<a style='text-decoration:none;line-height:16px;display:flex;color:#5B5B62;padding:10px;justify-content:end;' href='https://deepnote.com?utm_source=created-in-deepnote-cell&projectId=b8aff9fa-104a-41a3-b121-f629ebd12bab' target=\"_blank\">\n<img alt='Created in deepnote.com' style='display:inline;max-height:16px;margin:0px;margin-right:7.5px;' src='data:image/svg+xml;base64,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' > </img>\nCreated in <span style='font-weight:600;margin-left:4px;'>Deepnote</span></a>",
   "metadata": {
    "tags": [],
    "created_in_deepnote_cell": true,
    "deepnote_cell_type": "markdown"
   }
  }
 ],
 "nbformat": 4,
 "nbformat_minor": 2,
 "metadata": {
  "orig_nbformat": 2,
  "deepnote": {
   "is_reactive": false
  },
  "deepnote_notebook_id": "2d3eff80-2eee-4f92-8252-1ed6c92ed67c",
  "deepnote_execution_queue": []
 }
}