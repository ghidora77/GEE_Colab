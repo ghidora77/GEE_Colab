{
 "cells": [
  {
   "cell_type": "markdown",
   "metadata": {
    "cell_id": "c345ba0bfb064d50ab36c37b9c6bce39",
    "deepnote_cell_height": 66,
    "deepnote_cell_type": "code",
    "tags": []
   },
   "source": [
    "# Lab 06 - Nighttime Lights Appendix\n",
    "\n",
    "## Overview\n",
    "\n",
    "Capturing and visualizing low-light emittance from around the earth has been utilized in various applications since the mid-1960's. By consistently quantifying light emittance over long time periods, it is possible to use this as a proxy for economic development, especially in areas where there is not high-quality data and metrics to work with. Google Earth Engine has consolidated this data into an operational archive dating back to 1992, which provides unparallelled support for finding meaningful insights using this data set.\n",
    "\n",
    "This tutorial is a supplement to the *Open Nighttime Lights* [tutorial](https://worldbank.github.io/OpenNightLights/welcome.html) that the World Bank developed. The World Bank tutorial consists of six modules, including a background on the history of the data, working with the tools, extracting imagery, data analysis and image classification. It also contains an archive in which you can archive the raw data directly from Amazon Web Services and an applications section that attempts to estimate electricity usage using the nighttime data set. Each segment is well-written, and there is extensive documentation throughout. \n",
    "\n",
    "The caveat here is that up until this point in the course, we have worked with the Google Earth Engine JavaScript code editor - Because the World Bank tutorial covers topics such as working with data frames, statistics and classification, it utilizes the Google Earth Engine Python API in a Jupyter Notebook. Python is a more natural fit and contains more capabilities for data analysis and Machine Learning than JavaScript, and while the GEE code editor is excellent for working with objects and methods, many of you might prefer working with Python. Based on your background and what you want to get out of this course, here is our general suggestion on how to proceed. \n",
    "\n",
    "1. If you are comfortable working with Python, Jupyter Notebooks and setting up your own environment (pip, Conda, Brew), then follow along with the tutorial as it is. Module 2-2 in the World Bank tutorial explains how to get an environment up and running.\n",
    "   1. If this is the case, spend some time reading about the functionality in the [geemap](https://geemap.org) package - it consolidates much of the mapping features in Earth Engine in an intuitive way, as well as functionality to integrate your results with Folium and custom basemaps.\n",
    "\n",
    "2. If you want to learn to use Python but have never worked with virtual environments, then consider going through the tutorial in a Google Colab - it requires no setup of infrastructure, and you can get running immediately while learning Python. Once you are comfortable with this, you can always learn how to set up your own environment. Explanations on getting started can be located [here](https://worldbank.github.io/OpenNightLights/tutorials/mod2_3_introduction_to_Jupyter_notebooks.html). Note that there are several components of the tutorial, primarily in visualization using leaflet, that will not work. \n",
    "3. If you want to stick with working with JavaScript, then the section below will provide you with some capabilities of doing the core functions in the code editor, mainly the segment in Module 3. After that, we suggest exporting the data for further analysis. \n",
    "\n",
    "Again, this lab is more of a supplement for students that wish to keep using JavaScript and the GEE code editor. It is not designed to fully replace the World Bank tutorial, and while will get you started, there will be things that you will have to figure out on your own. \n",
    "\n",
    "## Basic Operations \n",
    "\n",
    "Module 1 is an essential introduction to the NightTime Lights dataset, while Module 2 introduces you to the data and the setting up your environment. In this section, we will covering the essential components of obtaining the data that you need in the correct context, some basic processing, building a composite and exporting the data  in JavaScript, with enough code to show you how to get started and how to follow along with the tutorial. \n",
    "\n",
    "We will follow along with module exactly as it is set up,  so that you can refer to the Module and section numbers. \n",
    "\n",
    "1. **Obtaining the Data**\n",
    "\n",
    "   The code chunk below should be a good starting point on ingesting the data, looking at the range of data, and visualizing the average value across the image collection. Follow along with the same concepts in the tutorial, test using a specific image (instead of an image collection) and visualize your results. You can modify the opacity manually using the slider on the `layers` tab, and then build it into your [visualization](https://developers.google.com/earth-engine/guides/image_visualization?hl=en#code-editor-javascript).\n",
    "\n",
    "   Note: JavaScript uses Lon / Lat, while Python uses lat / long while building points or setting map areas. \n",
    "\n"
   ]
  },
  {
   "cell_type": "code",
   "execution_count": null,
   "metadata": {},
   "outputs": [],
   "source": [
    "// Read in Nighttime Lights\n",
    "var dmsp = ee.ImageCollection(\"NOAA/DMSP-OLS/NIGHTTIME_LIGHTS\");\n",
    "// Print size of the image collection\n",
    "print(dmsp.size());\n",
    "// Print out the dates of image collection\n",
    "var imgrange = dmsp.reduceColumns(ee.Reducer.minMax(), [\"system:time_start\"]);\n",
    "var start = ee.Date(imgrange.get('min'));\n",
    "var end = ee.Date(imgrange.get('max'));\n",
    "print('Date range: ', start, end);\n",
    "// Take average visibility \n",
    "var nighttimeLights = dmsp.select('avg_vis');\n",
    "var nighttimeLightsVis = {\n",
    "  min: 3.0,\n",
    "  max: 60.0,\n",
    "};\n",
    "var center_lat = 38.9072;\n",
    "var center_lon = -77.0369;\n",
    "var zoomlevel=7;\n",
    "// \n",
    "Map.setCenter(center_lon, center_lat, zoomlevel);\n",
    "Map.addLayer(nighttimeLights, nighttimeLightsVis, 'Nighttime Lights');"
   ]
  },
  {
   "cell_type": "code",
   "execution_count": null,
   "metadata": {},
   "outputs": [],
   "source": [
    "2. **Image Clipping**\n",
    "\n",
    "   This section follows along with some of our earlier work in clipping our image to a certain area. Whether you need to bring in your own shapefiles. The code below [clips](https://developers.google.com/earth-engine/apidocs/ee-image-clip) the imagery within a 200km buffer on the center of Los Angeles. \n",
    "\n",
    "```javascript\n",
    "// Get December image - \"avg_rad\" band\n",
    "var viirs2019_12 = ee.ImageCollection(\"NOAA/VIIRS/DNB/MONTHLY_V1/VCMSLCFG\").filterDate(\n",
    "  \"2019-12-01\",\"2019-12-31\").select('avg_rad').median()\n",
    "// Set visibility parameters\n",
    "var nighttimeLightsVis = {\n",
    "  min: 3.0,\n",
    "  max: 60.0,\n",
    "};\n",
    "var center_lat = 34.05;\n",
    "var center_lon = -118.25;\n",
    "// Build a 200km buffer around a point\n",
    "// Clip image to boundary of buffer\n",
    "var aoi = ee.Geometry.Point([center_lon, center_lat]).buffer(200000);\n",
    "var viirs2019_12_clipped = viirs2019_12.clip(aoi)\n",
    "var zoomlevel=7;\n",
    "// map set center \n",
    "Map.setCenter(center_lon, center_lat, zoomlevel);\n",
    "Map.addLayer(viirs2019_12_clipped, nighttimeLightsVis, 'Clipped to Buffer');"
   ]
  },
  {
   "cell_type": "markdown",
   "metadata": {},
   "source": [
    "![Clip to Point Buffer](./im/im_06_01.png)\n",
    "\n",
    "You can do the same thing with either your own polygon vector files (import shapefile, kml), or use one of the vector files that GEE maintains - we can test use the TIGER state boundary file and clip the image to California. "
   ]
  },
  {
   "cell_type": "code",
   "execution_count": null,
   "metadata": {},
   "outputs": [],
   "source": [
    "// Get December image - \"avg_rad\" band\n",
    "var viirs2019_12 = ee.ImageCollection(\"NOAA/VIIRS/DNB/MONTHLY_V1/VCMSLCFG\").filterDate(\n",
    "  \"2019-12-01\",\"2019-12-31\").select('avg_rad').median()\n",
    "// Set visibility parameters\n",
    "var nighttimeLightsVis = {\n",
    "  min: 3.0,\n",
    "  max: 60.0,\n",
    "};\n",
    "var center_lat = 37;\n",
    "var center_lon = -120;\n",
    "// Boundary of states\n",
    "// Filter to California \n",
    "var aoi_CA = ee.FeatureCollection('TIGER/2016/States').filter(\n",
    "  ee.Filter.eq('NAME', 'California'))\n",
    "var viirs2019_12_clipped = viirs2019_12.clip(aoi_CA)\n",
    "var zoomlevel=6;\n",
    "// map set center \n",
    "Map.setCenter(center_lon, center_lat, zoomlevel);\n",
    "Map.addLayer(viirs2019_12_clipped, nighttimeLightsVis, 'California NightTime Lights'); "
   ]
  },
  {
   "cell_type": "markdown",
   "metadata": {},
   "source": [
    "![Clip to Feature](./im/im_06_02.png)\n",
    "\n",
    "The previous two examples showed the process of clipping individual images - to clip an entire image \t\tcollection and extract a composite image, we can follow the same general approach, but use the `map` function to clip each image of the collection to our boundary. However, note that depending on the use case and the size of the image collection, this might take time to run and still leave you with a large amount of data. Before exporting all the data, perhaps reduce the image collection by extracting mean / median values, or use the reduce function. "
   ]
  },
  {
   "cell_type": "code",
   "execution_count": null,
   "metadata": {},
   "outputs": [],
   "source": [
    "var viirsDNB = ee.ImageCollection(\"NOAA/VIIRS/DNB/MONTHLY_V1/VCMSLCFG\").select('avg_rad')\n",
    "// Define our clipping function\n",
    "// Built specifically for the purposes of clipping to California\n",
    "function clip_func(im_col) {\n",
    "    return im_col.clip(aoi_CA);\n",
    "}\n",
    "// Set visibility parameters\n",
    "var nighttimeLightsVis = {\n",
    "  min: 3.0,\n",
    "  max: 60.0,\n",
    "};\n",
    "var center_lat = 37;\n",
    "var center_lon = -120;\n",
    "var zoomlevel=6;\n",
    "// Boundary of States\n",
    "// Filter to California \n",
    "var aoi_CA = ee.FeatureCollection('TIGER/2016/States').filter(\n",
    "  ee.Filter.eq('NAME', 'California'))\n",
    "// use `map` - which applied our function to each image in the image collection\n",
    "var viirs_dmb_clipped = viirsDNB.map(clip_func)\n",
    "// map set center \n",
    "Map.setCenter(center_lon, center_lat, zoomlevel);\n",
    "Map.addLayer(viirs_dmb_clipped, nighttimeLightsVis, 'California NightTime Lights');"
   ]
  },
  {
   "cell_type": "markdown",
   "metadata": {},
   "source": [
    "3. **Conditional Operations**\n",
    "\n",
    "In this section, we will go over how to mask individual pixels based on conditional statements. This is one section that we will cover in JavaScript, but is probably easier to conduct in Python using 'Pythonic' methods and libraries such as NumPy. The charting is easer to work with in Python, but in the code chunk below, you can go through how to build a histogram smoothed with a Gaussian filter to identify where a value to might be appropriate. Then, build a binary mask using GEE's built in conditionals: "
   ]
  },
  {
   "cell_type": "code",
   "execution_count": null,
   "metadata": {},
   "outputs": [],
   "source": [
    "// get December image, we're using the \"avg_rad\" band\n",
    "var viirs2019_12 = ee.ImageCollection(\"NOAA/VIIRS/DNB/MONTHLY_V1/VCMSLCFG\").filterDate(\n",
    "  \"2019-12-01\",\"2019-12-31\").select('avg_rad').median()\n",
    "// center on Catalonia\n",
    "var lat = 41.83\n",
    "var lon = 1.67\n",
    "// create a 200 km buffer around the center of Catalonia\n",
    "var aoi = ee.Geometry.Point(lon, lat).buffer(200000);"
   ]
  },
  {
   "cell_type": "markdown",
   "metadata": {},
   "source": [
    "**Build the Histogram**\n",
    "\n",
    "This histogram is quite tough to read, but there are values that range from 0 to over 1000 - note that the vast majority fall within the range of 0 and 4. This is used to get a basic understanding of our data. \n",
    "\n",
    "--------> Need to improve"
   ]
  },
  {
   "cell_type": "code",
   "execution_count": null,
   "metadata": {},
   "outputs": [],
   "source": [
    "// \n",
    "var hist = viirs2019_12.reduceRegion({\n",
    "  reducer: ee.Reducer.autoHistogram(),\n",
    "  geometry: aoi,\n",
    "  scale: 100,\n",
    "  bestEffort: true\n",
    "});\n",
    "// The result of the region reduction by `autoHistogram` is an array. Get the\n",
    "// array and cast it as such for good measure.\n",
    "var histArray = ee.Array(hist.get('avg_rad')) ;\n",
    "print(histArray)\n",
    "// Subset the values that represent the bottom of the bins and project to\n",
    "// a single dimension. Result is a 1-D array.\n",
    "var binBottom = histArray.slice(1, 0, 1).project([0]);\n",
    "// Subset the values that represent the number of pixels per bin and project to\n",
    "// a single dimension. Result is a 1-D array.\n",
    "var nPixels = histArray.slice(1, 1, null).project([0]);\n",
    "// Chart the two arrays using the `ui.Chart.array.values` function.\n",
    "var histColumnFromArray = ui.Chart.array.values({\n",
    "  array:nPixels,\n",
    "  axis: 0,\n",
    "  xLabels: binBottom})\n",
    "  .setChartType('ColumnChart');\n",
    "print(histColumnFromArray);"
   ]
  },
  {
   "cell_type": "markdown",
   "metadata": {},
   "source": [
    "**Mask values**\n",
    "\n",
    "The histogram shows us that a a large majority of the values fall near zero - if we build a mask using GEE's built in conditionals to keep only pixels that have a value above 4, the output allows us to focus in on areas that have meaningful values. Additionally, this will improve compute time and analysis. "
   ]
  },
  {
   "cell_type": "code",
   "execution_count": null,
   "metadata": {},
   "outputs": [],
   "source": [
    "// Output is a binary mask (0-1)\n",
    "var mask_value = 4\n",
    "var viirs2019_12_mask = viirs2019_12.gte(mask_value)\n",
    "// Initialize our map\n",
    "var nighttimeVis = {min: 0.0, max: 120.0};\n",
    "Map.setCenter(lon, lat, 8);\n",
    "Map.addLayer(viirs2019_12.mask(viirs2019_12_mask), nighttimeVis,  'Nighttime');"
   ]
  },
  {
   "cell_type": "markdown",
   "metadata": {},
   "source": [
    "![Mask Values](./im/im_06_03.png)\n",
    "\n",
    "Note that just like in the lab, you can chain together conditionals to make a layered mask, and build a customized pallette. "
   ]
  },
  {
   "cell_type": "code",
   "execution_count": null,
   "metadata": {},
   "outputs": [],
   "source": [
    "var zones = viirs2019_12.gt(1.5).add(viirs2019_12.gt(2)).add(viirs2019_12.gt(5))\n",
    "// Initialize our map\n",
    "var nighttimeVis = {min: 0.0, max: 120.0};\n",
    "Map.setCenter(lon, lat, 8);\n",
    "Map.addLayer(zones.mask(zones), {'palette':['#cc0909','#e67525','#fff825']}, 'zones');"
   ]
  },
  {
   "cell_type": "markdown",
   "metadata": {},
   "source": [
    "![Layered Mask](./im/im_06_04.png)\n",
    "\n",
    "4. **Cell Statistics and Band Math**\n",
    "\n",
    "It is worthwhile to read through this section thoroughly on the World Bank tutorial, as the techniques you learn here will be very useful in later sections. We will go over scaling an image to center each pixel at zero. We are working in the region of East Timor - the general process is to read in the December 2017 Nighttime Lights average, clip it to the East Timor Feature Collection, and then calculate the mean and standard deviation using the `reduceRegion` function. Now that we have those values, we can standardize the scaling. Compare the before and after images - in the first, it is very difficult to get any meaningful values, because the range of values is so narrow. Once scaled, we can more easily differentiate between urban areas and rural areas. You will also note that by doing this, the noise increases as well, as you can tell from the reduced 'sharpness' of the image. This can be an issue in many cases, and will be addressed in other components of the module. "
   ]
  },
  {
   "cell_type": "code",
   "execution_count": null,
   "metadata": {},
   "outputs": [],
   "source": [
    "// get December image, we're using the \"avg_rad\" band\n",
    "var viirs2017_12 = ee.ImageCollection(\n",
    "  \"NOAA/VIIRS/DNB/MONTHLY_V1/VCMSLCFG\").filterDate(\n",
    "  \"2017-12-01\",\"2017-12-31\").select('avg_rad').first()\n",
    "// get the geometry for Timor-Leste from GEE's tagged datasets\n",
    "var tls = ee.Feature(ee.FeatureCollection(\n",
    "  \"FAO/GAUL/2015/level0\").filter(ee.Filter.eq(\n",
    "  'ADM0_NAME', 'Timor-Leste')).first()).geometry()\n",
    "// clip our VIIRS image to Timor-Leste\n",
    "var ntl_tls = viirs2017_12.clip(tls)\n",
    "// Set visibility parameters\n",
    "var nighttimeLightsVis = {\n",
    "  min: 3.0,\n",
    "  max: 60.0,\n",
    "};\n",
    "Map.setCenter(126.25, -8.5, 9);\n",
    "Map.addLayer(ntl_tls, nighttimeLightsVis, '\"VIIRS-DNB Dec 2017\"');"
   ]
  },
  {
   "cell_type": "markdown",
   "metadata": {},
   "source": [
    "![Scaling Image](./im/im_06_05.png)"
   ]
  },
  {
   "cell_type": "code",
   "execution_count": null,
   "metadata": {},
   "outputs": [],
   "source": [
    "// Reduce image to find the mean and standard deviation\n",
    "var mu = ntl_tls.reduceRegion(ee.Reducer.mean())\n",
    "var std = ntl_tls.reduceRegion(ee.Reducer.stdDev())\n",
    "// Convert these to Numbers using the ee.Number constructor\n",
    "var mu = ee.Number(mu.get('avg_rad'))\n",
    "var std = ee.Number(std.get('avg_rad'))\n",
    "// Print Output to ensure values look correct\n",
    "print('Mean Avg Radiance', mu.getInfo())\n",
    "print('StdDev', std.getInfo())\n",
    "// Subtract mean and divide by standard deviation\n",
    "var ntl_tls_std = ntl_tls.subtract(mu).divide(std)\n",
    "// Set visibility parameters\n",
    "var nighttimeLightsVis = {\n",
    "  min: -4,\n",
    "  max: 4,\n",
    "};\n",
    "Map.setCenter(126.25, -8.5, 9);\n",
    "Map.addLayer(ntl_tls_std, nighttimeLightsVis, 'Scaled Image');"
   ]
  },
  {
   "cell_type": "markdown",
   "metadata": {},
   "source": [
    "![Rescaled Image](./im/im_06_06.png)\n",
    "\n",
    "5. **Expressions**\n",
    "\n",
    "In this module, we will work with the `.expression()` methods built-into images. This allows us to work with customized functions and complete more advanced band math than pre-built functionality. This is a very short module, but the key point here is that being able to manipulate and find unique relationships in imagery. Once you understand how to build an expression, opportunities are limitless. In the images below, we invert the pixel values by multiplying each pixel by -1 and adding 63 (max value). "
   ]
  },
  {
   "cell_type": "code",
   "execution_count": null,
   "metadata": {},
   "outputs": [],
   "source": [
    "// get 1996 composite, apply mask, and add as layer\n",
    "var dmsp1996 = ee.Image(\"NOAA/DMSP-OLS/NIGHTTIME_LIGHTS/F121996\").select('stable_lights')\n",
    "var lat = 19.43\n",
    "var lon = -99.13\n",
    "var nighttimeLightsVis = {\n",
    "  min: 0.0,\n",
    "  max: 63.0,\n",
    "};\n",
    "Map.setCenter(lon, lat, 7);\n",
    "Map.addLayer(dmsp1996, nighttimeLightsVis, '1996 Composite')"
   ]
  },
  {
   "cell_type": "code",
   "execution_count": null,
   "metadata": {},
   "outputs": [],
   "source": [
    "![Before Inversion](./im/im_06_07.png)"
   ]
  },
  {
   "cell_type": "code",
   "execution_count": null,
   "metadata": {},
   "outputs": [],
   "source": [
    "// Use Expression to invert the pixels\n",
    "var dmsp1996_inv = dmsp1996.multiply(-1).add(63)\n",
    "Map.addLayer(dmsp1996_inv, nighttimeLightsVis, '1996 Composite Inverse')"
   ]
  },
  {
   "cell_type": "markdown",
   "metadata": {},
   "source": [
    " ![Inverted Image](./im/im_06_08.png)"
   ]
  },
  {
   "cell_type": "markdown",
   "metadata": {},
   "source": [
    "6. **Expression (Continued)**\n",
    "\n",
    "In the previous example we built an expression using some of the GEE built-in operations, such as `.multiplication()` and `.add()`. This works well for that specific use case, but is limiting when you need to use operations that are not specifically provided within GEE. Another methodology is to build our expression with a string and then provide the input as a key-value pair. See the code chunk below for the methodology. Additionally, for calculations that involve massive amounts of data, there are some speed advantages in doing it this way. Follow along with the World Bank tutorial using this methodology, and try to build some of your own functions to see the result. Using 'Inspector' would be helpful to test whether your function acted as expected. "
   ]
  },
  {
   "cell_type": "code",
   "execution_count": null,
   "metadata": {},
   "outputs": [],
   "source": [
    "var inv_formula = \"(X*-1) + 63\"\n",
    "// We plug this formula in, identify our variable \"X\" and set it to our 1996 DMSP-OLS \"stable_lights\" band\n",
    "var dmsp1996_inv2 = dmsp1996.expression(inv_formula, {'X':dmsp1996})\n",
    "Map.addLayer(dmsp1996_inv2, nighttimeLightsVis, '1996 Composite Inverse')"
   ]
  },
  {
   "cell_type": "markdown",
   "metadata": {},
   "source": [
    "7. **Make a Composite**\n",
    "\n",
    "Building a temporal composite is an important part of analysis and modeling. We went through these concepts in earlier labs, although this tutorial extends some of the functionality."
   ]
  },
  {
   "cell_type": "code",
   "execution_count": null,
   "metadata": {},
   "outputs": [],
   "source": [
    "// 2015 image collection - \"avg_rad\" band\n",
    "var viirs2015 = ee.ImageCollection(\"NOAA/VIIRS/DNB/MONTHLY_V1/VCMSLCFG\").filterDate(\n",
    "  \"2015-01-01\",\"2015-12-31\").select('avg_rad')\n",
    "// Confirm that there are 12 images in this collection \n",
    "print('Images:', viirs2015.size().getInfo())\n",
    "var viirs2015med = viirs2015.median()\n",
    "// iniatialize map on Sao Paulo\n",
    "var lat = -23.54\n",
    "var lon = -46.63\n",
    "var nighttimeLightsVis = {\n",
    "  min: 0.0,\n",
    "  max: 63.0,\n",
    "};\n",
    "// Initialize the map\n",
    "Map.setCenter(lon, lat, 7);\n",
    "Map.addLayer(viirs2015med.mask(viirs2015med), nighttimeLightsVis, '2015 Monthly Median')"
   ]
  },
  {
   "cell_type": "markdown",
   "metadata": {},
   "source": [
    "![Composite Image](./im/im_06_09.png)"
   ]
  },
  {
   "cell_type": "markdown",
   "metadata": {},
   "source": [
    "------> Research alternative to loop - convert function in 7.4.3 to `.map`"
   ]
  },
  {
   "cell_type": "code",
   "execution_count": null,
   "metadata": {
    "cell_id": "a7dca71b62504fb3a78fb873c4d9574e",
    "deepnote_cell_height": 46,
    "deepnote_cell_type": "markdown",
    "tags": []
   },
   "outputs": [],
   "source": [
    "// Define start and end years\n",
    "var start = 2015\n",
    "var end = 2019\n",
    "var years = ee.List.sequence(start, end)\n",
    "print('Number of years: ', years.size().getInfo())\n",
    "var colID = \"NOAA/VIIRS/DNB/MONTHLY_V1/VCMSLCFG\"\n",
    "function viirs_annual_median_reduce(year) {\n",
    "    return ee.ImageCollection(colID).filter(    \t\tee.Filter.calendarRange(year,year,\"year\")).select(\n",
    "      \"avg_rad\").median().set('year',year)\n",
    "}\n",
    "// Map function to each year in our list\n",
    "var yearComps = ee.ImageCollection.fromImages(years.map(viirs_annual_median_reduce))"
   ]
  },
  {
   "cell_type": "markdown",
   "metadata": {
    "created_in_deepnote_cell": true,
    "deepnote_cell_type": "markdown",
    "tags": []
   },
   "source": [
    "8. **Importing and Exporting Data**\n",
    "\n",
    "Using the GEE code editor is relatively straightforward for importing spatial files, such as Shapefiles. Follow the [documentation](https://developers.google.com/earth-engine/guides/table_upload?hl=en) and you should be able to import the data that you need. \n",
    "\n",
    "While the [documentation](https://developers.google.com/earth-engine/guides/exporting?hl=en) on exporting data is also relatively straightforward, it is important to understand exactly what you are exporting. \n",
    "\n",
    "Refer to lab 01 for more information and some examples of importing and exporting data. \n",
    "\n",
    "## Conclusion\n",
    "\n",
    "As noted earlier, this lab is more of a JavaScript supplement to the excellent World Bank tutorial. There are many data and remote sensing libraries in Python that can help you take your work to the next stage.  "
   ]
  },
  {
   "cell_type": "code",
   "execution_count": null,
   "metadata": {},
   "outputs": [],
   "source": []
  }
 ],
 "metadata": {
  "deepnote": {
   "is_reactive": false
  },
  "deepnote_execution_queue": [],
  "deepnote_notebook_id": "e11dfa4f-e0cd-46d3-81c1-e78e64535637",
  "kernelspec": {
   "display_name": "geo",
   "language": "python",
   "name": "geo"
  },
  "language_info": {
   "codemirror_mode": {
    "name": "ipython",
    "version": 3
   },
   "file_extension": ".py",
   "mimetype": "text/x-python",
   "name": "python",
   "nbconvert_exporter": "python",
   "pygments_lexer": "ipython3",
   "version": "3.7.10"
  }
 },
 "nbformat": 4,
 "nbformat_minor": 4
}
