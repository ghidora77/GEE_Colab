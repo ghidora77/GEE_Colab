{
 "cells": [
  {
   "cell_type": "markdown",
   "metadata": {},
   "source": [
    "# Lab 04 - Classification \n",
    "\n",
    "## Overview\n",
    "\n",
    "This lab will cover the process of using machine learning (ML) to create both unsupervised and supervised classification models for land use categorization. We will discuss the methodology involved and potential use cases, explore parameter tuning and go through the process of building a relatively simple classification model using Random Forest and CART, which you can use as a starting point for future research.   \n",
    "\n",
    "## Introduction to Classification\n",
    "\n",
    "While it is possible for a human to look at a satellite image and identify objects or land cover types based on their visual characteristics, the sheer magnitude and volume of imagery makes it virtually impossible to do this manually at scale. To compensate, machine learning allows computers to process this information much quicker than a human and find meaningful insights in the imagery. Image classification is an essential component in today's remote sensing, and there are many opportunities in this growing field. By training ML models to efficiently process the data and return labeled information, we can focus on the higher-level insights.\n",
    "\n",
    "Google Earth Engine offers many options to work with classification. Most broadly, we can separate classification into two parts - supervised and unsupervised classification. We will introduce both components and work our way through several examples. \n",
    "\n",
    "For practical purposes, we can define pixel-wise prediction as guessing the value of some geographic variable of interest `g`, using a function `G` that takes as input a pixel vector **`p`**:\n",
    "$$\n",
    "G_{t}(p_{i}) = g_{i}\n",
    "$$\n",
    "The *i* in this equation refers to a particular instance from a set of pixels. Think of *G* as a guessing function and $g_{i}$ as the guess for pixel *i*.  The **T** in the subscript of *G* refers to a *training set* (a set of known values for **p** and the correct *g*), used to infer the structure of *G*. You have to choose a suitable *G* to train with **T**. \n",
    "\n",
    "When `g` is nominal, or a fixed category (ex., {'water', 'vegetation', 'bare'}), we call this classification. \n",
    "\n",
    "When `g` is numeric (ex., {0, 1, 2, 3}), we call this regression. \n",
    "\n",
    "This is a simplistic description of a problem addressed in a broad range of fields including mathematics, statistics, data mining and machine learning. For our purposes, we will go through some examples using these concepts in Google Earth Engine and then provide more resources for further reading at the end. \n",
    "\n",
    "## Unsupervised Classification\n",
    "\n",
    "Unsupervised classification finds unique groupings in the dataset without manually developed training data (no guidance). The computer will cycle through the pixels, look at the characteristics of the different bands, and pixel-by-pixel begin to group information together. Perhaps pixels with a blue hue and a low NIR value are grouped together, while green-dominant pixels are also grouped together. The outcome of unsupervised classification is that each pixel is categorized within the context of the image and the number of categories specified. Take note that the number of clusters is set by the user, and this plays a major role in how the algorithm operates. Too many clusters create unnecessary noise, while too few clusters does not have yield enough granularity.\n",
    "\n",
    "Google Earth Engine provides [documentation](https://developers.google.com/earth-engine/guides/clustering) on working with unsupervised classification within their ecosystem, and we will be focusing on the `ee.Clusterer` package, which provides a flexible unsupervised classification (or clustering) in an easy-to-use way.\n",
    "\n",
    "Clusterers are used in the same manner as classifiers in Earth Engine. The general workflow for clustering is:\n",
    "\n",
    "1. Assemble features with numeric properties to find clusters\n",
    "2. Instantiate a clusterer - set its parameters if necessary\n",
    "3. Train the clusterer using the training data\n",
    "4. Apply the clusterer to an image or feature collection\n",
    "5. Label the clusters\n",
    "\n",
    "Begin by creating a study region - in this case we will be working in an area near Blacksburg, VA.\n",
    "\n",
    "We will be working with Landsat 8 imagery, which we will filter to the region and to the year of 2019. `maskl8sr()` is a function used to mask out cloud pixels. Visualize the true color image first to get an understanding of the region. \n",
    "\n"
   ]
  },
  {
   "cell_type": "code",
   "execution_count": 1,
   "metadata": {},
   "outputs": [],
   "source": [
    "import ee, geemap\n",
    "import folium\n",
    "\n",
    "from f_build_map import build_map\n",
    "from f_mask_Landsat8SR import mask_Landsat8SR\n",
    "\n",
    "# Initialize the Earth Engine module.\n",
    "ee.Initialize()"
   ]
  },
  {
   "cell_type": "code",
   "execution_count": 2,
   "metadata": {},
   "outputs": [],
   "source": [
    "# Create region\n",
    "region = ee.Geometry.Polygon(\n",
    "        [[[-80.62707329831015, 37.333629367422276],\n",
    "          [-80.62707329831015, 37.144488460273884],\n",
    "          [-80.19517327389609, 37.144488460273884],\n",
    "          [-80.19517327389609, 37.333629367422276]]]);\n",
    "# Function to mask clouds based on the pixel_qa band of Landsat 8 SR data."
   ]
  },
  {
   "cell_type": "code",
   "execution_count": 3,
   "metadata": {},
   "outputs": [
    {
     "data": {
      "application/vnd.jupyter.widget-view+json": {
       "model_id": "e99ff8af15884bdf8977a67b726745c4",
       "version_major": 2,
       "version_minor": 0
      },
      "text/plain": [
       "Map(center=[37.22, -80.42], controls=(WidgetControl(options=['position', 'transparent_bg'], widget=HBox(childr…"
      ]
     },
     "metadata": {},
     "output_type": "display_data"
    }
   ],
   "source": [
    "lat = 37.22; lon = -80.42; \n",
    "zoom = 11;\n",
    "image_collection_name = \"LANDSAT/LC08/C01/T1_SR\"\n",
    "date_start = '2019-01-01'\n",
    "date_end = '2019-12-31'\n",
    "name = 'Landsat 8 (2016)'\n",
    "point = ee.Geometry.Point([lon, lat])\n",
    "\n",
    "image = (\n",
    "    ee.ImageCollection(image_collection_name)\n",
    "         .filterBounds(point)\n",
    "         .filterDate(date_start, date_end)\n",
    "         .map(mask_Landsat8SR)\n",
    "         .median()\n",
    ")\n",
    "\n",
    "bands = ['B4', 'B3', 'B2']\n",
    "\n",
    "vizParams = {\n",
    "    'bands': bands, \n",
    "    'min': 0, \n",
    "    'max': 3000,\n",
    "    'gamma': 1.4\n",
    "}\n",
    "\n",
    "# Define a map centered on southern Maine.\n",
    "map = build_map(lat, lon, zoom, vizParams, image, name)\n",
    "#map.add_ee_layer(image, vizParams)\n",
    "display(map)"
   ]
  },
  {
   "cell_type": "markdown",
   "metadata": {},
   "source": [
    "In this case, we will randomly select a sample of 5000 pixels in the region to build a clustering model - we will use this sample data to find clustering groups and then apply it to the rest of the data. \n",
    "\n",
    "We will also set the variable `clusterNum` to idenfity how many categories to use. Start with 15 and continue to modify based on the output and needs of your experiment. Note that we are using `ee.Clusterer.wekaKMeans`, "
   ]
  },
  {
   "cell_type": "code",
   "execution_count": 4,
   "metadata": {},
   "outputs": [
    {
     "data": {
      "application/vnd.jupyter.widget-view+json": {
       "model_id": "27528a895e264d01ba19b18461274729",
       "version_major": 2,
       "version_minor": 0
      },
      "text/plain": [
       "Map(center=[37.22, -80.42], controls=(WidgetControl(options=['position', 'transparent_bg'], widget=HBox(childr…"
      ]
     },
     "metadata": {},
     "output_type": "display_data"
    }
   ],
   "source": [
    "# Create a training dataset.\n",
    "sample = image.sample(\n",
    "     region= region,\n",
    "     scale= 30,\n",
    "     numPixels= 5000\n",
    ");\n",
    "\n",
    "\n",
    "clusterNum = 15  \n",
    "# Instantiate the clusterer and train it.\n",
    "clusterer = ee.Clusterer.wekaKMeans(clusterNum).train(sample);\n",
    "# Cluster the input using the trained clusterer.\n",
    "result = image.cluster(clusterer);\n",
    "\n",
    "# Display the clusters with random colors.\n",
    "\n",
    "map = build_map(lat, lon, zoom, {}, result.randomVisualizer(), 'Unsupervised Classification')\n",
    "display(map)"
   ]
  },
  {
   "cell_type": "code",
   "execution_count": 5,
   "metadata": {},
   "outputs": [
    {
     "name": "stdout",
     "output_type": "stream",
     "text": [
      "result {'type': 'Image', 'bands': [{'id': 'cluster', 'data_type': {'type': 'PixelType', 'precision': 'int', 'min': -2147483648, 'max': 2147483647}, 'crs': 'EPSG:4326', 'crs_transform': [1, 0, 0, 0, 1, 0]}]}\n"
     ]
    }
   ],
   "source": [
    "print(\"result\", result.getInfo());"
   ]
  },
  {
   "cell_type": "markdown",
   "metadata": {},
   "source": [
    "As you can see from the output, the result is quite vivid. On the 'layers' toggle on the top-right of the map section, increase the transparency of the layer to compare it to the satellite imagery.\n",
    "\n",
    "Change the variable in `clusterNum` and run through some different options to find better results. Note that the output of an unsupervised clustering model is not specifying that each pixel should be a certain type of label (ex, the pixel is 'water'), but rather that these pixels have similar characteristics. \n",
    "\n",
    "Unsupervised classification is a great starting point for understanding your data. While in the context of Remote Sensing it is not typically used as standalone results, it can be used as a layer in supervised classification to improve performance in the supervised classification.  \n",
    "\n",
    "> **Question 1**: If you were going to use a clustering model to identify water in the image, is 15 an appropriate cluster number? What would you deem to be an optimal number of clusters?\n",
    "\n",
    "## Supervised Classification\n",
    "\n",
    "Just like in unsupervised classification, GEE has [documentation](https://developers.google.com/earth-engine/classification) that works through several examples. Supervised classification is an iterative process of obtaining training data, creating an initial model, reviewing the results and tuning the parameters. Many projects using supervised classification may take several months or years of fine-tuning, requiring constant refinement and maintenance. Below is a list of the steps in building a supervised classification model according to GEE. \n",
    "\n",
    "1. Collect the training data \n",
    "2. Instantiate the classifier\n",
    "3. Train the classifier\n",
    "4. Classify the image \n",
    "5. Tune the model \n",
    "6. Repeat the process \n",
    "\n",
    "\n",
    "We will begin by creating training data manually within GEE. Using the geometry tools and the Landsat composite as a background, we can digitize training polygons. We’ll need to do two things: identify where polygons occur on the ground, and label them with the proper class number.\n",
    "\n",
    "1. Draw a polygon around an area of bare earth (dirt, no vegetation), then [configure the import](https://developers.google.com/earth-engine/playground#geometry-tools). Import as FeatureCollection, then click **`+ New property`**. Name the new property 'class' and give it a value of 0. The dialog should show **class**: 0. Name the import 'bare'. \n",
    "2. **`+ New property`** > Draw a polygon around vegetation > import as FeatureCollection > add a property > name it 'class' and give it a value of 1. Name the import 'vegetation'. \n",
    "3. **`+ New property`** > Draw a polygon around water > import as FeatureCollection > add a property > name it 'class' and give it a value of 2. Name the import 'water'. \n",
    "4. You should have three FeatureCollection imports named 'bare', 'vegetation' and 'water'. Merge them into one FeatureCollection:\n",
    "\n",
    "> *Note*: We are providing a few starting point polygons to begin experimenting with - in the exercises, you will use the above instructions to build your own polygons. "
   ]
  },
  {
   "cell_type": "code",
   "execution_count": 6,
   "metadata": {},
   "outputs": [],
   "source": [
    "water = ee.FeatureCollection(\n",
    "        [ee.Feature(\n",
    "            ee.Geometry.Polygon(\n",
    "                [[[-80.6172789596943, 37.04886769922969],\n",
    "                  [-80.60715093845407, 37.058183583673205],\n",
    "                  [-80.60612097019235, 37.06201920367848],\n",
    "                  [-80.60165777439157, 37.06530672362588],\n",
    "                  [-80.59273138279, 37.07133347348626],\n",
    "                  [-80.59873953098337, 37.075168428598126],\n",
    "                  [-80.61418905490915, 37.060512376088454]]]),\n",
    "            {\n",
    "              \"class\": 2,\n",
    "              \"system:index\": \"0\"\n",
    "            })]);\n",
    "bare = ee.FeatureCollection(\n",
    "        [ee.Feature(\n",
    "            ee.Geometry.Polygon(\n",
    "                [[[-80.53788557285348, 37.08119439478304],\n",
    "                  [-80.53960218662301, 37.07551082587341],\n",
    "                  [-80.53076162570993, 37.07688039951336],\n",
    "                  [-80.52380933994333, 37.078523855226926],\n",
    "                  [-80.52483930820505, 37.085371203913176],\n",
    "                  [-80.53101911777536, 37.08311164722038],\n",
    "                  [-80.53608312839548, 37.08044117520197]]]),\n",
    "            {\n",
    "              \"class\": 1,\n",
    "              \"system:index\": \"0\"\n",
    "            })]);\n",
    "vegetation = ee.FeatureCollection(\n",
    "        [ee.Feature(\n",
    "            ee.Geometry.Polygon(\n",
    "                [[[-80.57367696994821, 37.07931133179868],\n",
    "                  [-80.56517973178903, 37.07801027914314],\n",
    "                  [-80.56080236667673, 37.083008938497635],\n",
    "                  [-80.55749788517038, 37.08516579245161],\n",
    "                  [-80.5611027740864, 37.08978741569377],\n",
    "                  [-80.56612386936227, 37.08879464631953],\n",
    "                  [-80.57337656253854, 37.08420719827087]]]),\n",
    "            {\n",
    "              \"class\": 0,\n",
    "              \"system:index\": \"0\"\n",
    "            })]);\n",
    "\n",
    "trainingFeatures = bare.merge(vegetation).merge(water);"
   ]
  },
  {
   "cell_type": "markdown",
   "metadata": {},
   "source": [
    "In the merged FeatureCollection, each Feature should have a property called 'class' where the classes are consecutive integers, starting at 0.\n",
    "\n",
    "For Landsat, we will use the following bands for their predictive values - we could just keep the visual bands, but using a larger number of predictive values in many cases improves the model's ability to find relationships and patterns in the data. Create a training set **T** for the classifier by sampling the Landsat composite with the merged features. The choice of classifier is not always obvious, but a CART (a [decision tree](https://en.wikipedia.org/wiki/Decision_tree_learning) when running in classification mode) is an excellent starting point. Instantiate a CART and train it."
   ]
  },
  {
   "cell_type": "code",
   "execution_count": 7,
   "metadata": {},
   "outputs": [
    {
     "data": {
      "application/vnd.jupyter.widget-view+json": {
       "model_id": "3b7ef1754dfd46c4afd4a832eaa9f7fc",
       "version_major": 2,
       "version_minor": 0
      },
      "text/plain": [
       "Map(center=[37.22, -80.42], controls=(WidgetControl(options=['position', 'transparent_bg'], widget=HBox(childr…"
      ]
     },
     "metadata": {},
     "output_type": "display_data"
    }
   ],
   "source": [
    "predictionBands = ['B2', 'B3', 'B4', 'B5', 'B6', 'B7', 'B10', 'B11'];\n",
    "\n",
    "classifierTraining = (\n",
    "    image.select(predictionBands)\n",
    "        .sampleRegions(\n",
    "            collection = trainingFeatures, \n",
    "            properties = ['class'], \n",
    "            scale= 30\n",
    "        )\n",
    "    )\n",
    "classifier = (\n",
    "    ee.Classifier.smileCart().train(\n",
    "        features = classifierTraining, \n",
    "        classProperty = 'class', \n",
    "        inputProperties = predictionBands\n",
    "    )\n",
    ")\n",
    "classified = image.select(predictionBands).classify(classifier);\n",
    "\n",
    "vizParams = {\n",
    "    'min': 0, \n",
    "    'max': 2,\n",
    "    'palette': ['red', 'green', 'blue']\n",
    "}\n",
    "\n",
    "# Define a map centered on southern Maine.\n",
    "map = build_map(lat, lon, zoom, vizParams, classified, name)\n",
    "\n",
    "display(map)"
   ]
  },
  {
   "cell_type": "markdown",
   "metadata": {},
   "source": [
    "Inspect the result. Some things to test if the result is unsatisfactory:\n",
    "\n",
    "1. Other classifiers\n",
    "   1. Try some of the other classifiers in Earth Engine to see if the result is better or different. You can find different classifiers under `Docs` on the left panel of the console. \n",
    "2. Different (or more) training data.\n",
    "   1. Try adjusting the shape and/or size of your training polygons to have a more representative sample of your classes. It is very common to either underfit or overfit your model when beginning the process. \n",
    "3. Add more predictors. \n",
    "   1. Try adding spectral indices to the input variables."
   ]
  },
  {
   "cell_type": "markdown",
   "metadata": {},
   "source": [
    "## Accuracy Assessment\n",
    "\n",
    "The previous section asked the question whether the result is satisfactory or not. In remote sensing, the quantification of the answer is called accuracy assessment. In the regression context, a standard measure of accuracy is the [Root Mean Square Error](https://en.wikipedia.org/wiki/Root-mean-square_deviation) (RMSE) or the [correlation](https://en.wikipedia.org/wiki/Correlation_and_dependence) between known and predicted values. (Although the RMSE is returned by the linear regression reducer, beware: this is computed from the training data and is NOT a fair estimate of expected prediction error when guessing a pixel not in the training set). It is testing how accurate the model is based on the existing training data, but proper methodology uses separate ground-truth values for testing. In the classification context, accuracy measurements are often derived from a [confusion matrix](https://en.wikipedia.org/wiki/Confusion_matrix).\n",
    "\n",
    "The first step is to partition the set of known values into training and testing sets. Reusing the classification training set, add a column of random numbers used to partition the known data where about 60% of the data will be used for training and 40% for testing. Train the classifier with the trainingSet, classify the testing set and get a confusion matrix. Note that the classifier automatically adds a property called 'classification', which is compared to the 'class' property added when you imported your polygons:\n",
    "\n",
    "Print the confusion matrix and expand the object to inspect the matrix. The entries represent the number of pixels. Items on the diagonal represent correct classification and items off the diagonal are misclassifications, where the class in row *i* is classified as column *j* \n",
    "\n",
    "There are a total of 640 pixels of water in the test sample - of these 640 pixels, 1 pixel was miscalculated as bare land, and 0 pixels were miscalculated as vegetation. You can get basic descriptive statistics from the confusion matrix, along with consumers / producers accuracy, which are built-in functions that are calculated from a confusion matrix. The [documentation](https://developers.google.com/earth-engine/apidocs/ee-confusionmatrix) of working with confusion matrices contains some interesting information and extensions. \n",
    "\n",
    "![Confusion Matrix](im/im_04_03.png)\n",
    "\n",
    "You can test different classifiers by replacing CART with some other classifier of interest. Also note that because of the randomness in the partition, you may get different results from different runs. "
   ]
  },
  {
   "cell_type": "code",
   "execution_count": 8,
   "metadata": {},
   "outputs": [],
   "source": [
    "trainingTesting = classifierTraining.randomColumn();\n",
    "trainingSet = trainingTesting.filter(ee.Filter.lessThan('random', 0.6));\n",
    "testingSet = trainingTesting.filter(ee.Filter.greaterThanOrEquals('random', 0.6)); "
   ]
  },
  {
   "cell_type": "code",
   "execution_count": 9,
   "metadata": {},
   "outputs": [],
   "source": [
    "trained = ee.Classifier.smileCart().train(\n",
    "  features=trainingSet,\n",
    "  classProperty='class',\n",
    "  inputProperties=predictionBands\n",
    "); "
   ]
  },
  {
   "cell_type": "code",
   "execution_count": 10,
   "metadata": {},
   "outputs": [],
   "source": [
    "confusionMatrix =  (ee.ConfusionMatrix(\n",
    "    testingSet.classify(trained)\n",
    "    .errorMatrix(\n",
    "        actual= 'class',\n",
    "        predicted= 'classification'\n",
    "    )\n",
    "))"
   ]
  },
  {
   "cell_type": "code",
   "execution_count": 11,
   "metadata": {},
   "outputs": [
    {
     "name": "stdout",
     "output_type": "stream",
     "text": [
      "Confusion matrix: [[662, 0, 1], [0, 471, 0], [0, 0, 852]]\n"
     ]
    }
   ],
   "source": [
    "print('Confusion matrix:', confusionMatrix.getInfo())"
   ]
  },
  {
   "cell_type": "code",
   "execution_count": 12,
   "metadata": {},
   "outputs": [
    {
     "name": "stdout",
     "output_type": "stream",
     "text": [
      "Overall Accuracy: 0.999496475327291\n"
     ]
    }
   ],
   "source": [
    "print('Overall Accuracy:', confusionMatrix.accuracy().getInfo())"
   ]
  },
  {
   "cell_type": "code",
   "execution_count": 13,
   "metadata": {},
   "outputs": [
    {
     "name": "stdout",
     "output_type": "stream",
     "text": [
      "Producers Accuracy: [[0.9984917043740573], [1], [1]]\n"
     ]
    }
   ],
   "source": [
    "print('Producers Accuracy:', confusionMatrix.producersAccuracy().getInfo())"
   ]
  },
  {
   "cell_type": "code",
   "execution_count": 14,
   "metadata": {},
   "outputs": [
    {
     "name": "stdout",
     "output_type": "stream",
     "text": [
      "Consumers Accuracy: [[1, 1, 0.9988276670574443]]\n"
     ]
    }
   ],
   "source": [
    "print('Consumers Accuracy:', confusionMatrix.consumersAccuracy().getInfo())"
   ]
  },
  {
   "cell_type": "markdown",
   "metadata": {},
   "source": [
    "> **Important**: this is a simplified example to simply showcase how to get started with supervised classification. These accuracy levels are artificially high, and as you increase the number of categories and add complexity to the model, you will have to fine-tune your process along the way. "
   ]
  },
  {
   "cell_type": "markdown",
   "metadata": {},
   "source": [
    "## Hyperparameter Tuning\n",
    "\n",
    "Another well-known classifier used extensively in Remote Sensing is a random forest. A random forest is a collection of decision trees that find optimal splits in the data to compute an average (regression) or vote on a label (classification). Their adaptability makes them one of the most effective classification models, and is an excellent starting point. Because random forests are so effective, we need to make things a little harder for it to be interesting. Do that by adding noise to the training data.\n",
    "\n",
    "Note that the only parameter to the classifier is the number of trees (10). How many trees should you use? Making that choice is best done by hyperparameter tuning. For example,"
   ]
  },
  {
   "cell_type": "code",
   "execution_count": 15,
   "metadata": {},
   "outputs": [],
   "source": [
    "# Load Landsat 8 annual composites."
   ]
  },
  {
   "cell_type": "code",
   "execution_count": 16,
   "metadata": {},
   "outputs": [],
   "source": [
    "predictionBands = ['B2', 'B3', 'B4', 'B5', 'B6', 'B7', 'B10', 'B11'];"
   ]
  },
  {
   "cell_type": "code",
   "execution_count": 17,
   "metadata": {},
   "outputs": [],
   "source": [
    "sample = (image.select(predictionBands).sampleRegions(\n",
    "  collection = trainingFeatures.map(lambda f: f.buffer(300)), \n",
    "          properties=['class'], \n",
    "          scale= 30))"
   ]
  },
  {
   "cell_type": "code",
   "execution_count": 18,
   "metadata": {},
   "outputs": [],
   "source": [
    "classifier = (ee.Classifier.smileRandomForest(10)\n",
    "                    .train(\n",
    "                        features= sample,\n",
    "                classProperty= 'class',\n",
    "                inputProperties= predictionBands\n",
    "               ))\n",
    "\n",
    "classified =  image.select(predictionBands).classify(classifier)  "
   ]
  },
  {
   "cell_type": "code",
   "execution_count": 19,
   "metadata": {},
   "outputs": [
    {
     "data": {
      "application/vnd.jupyter.widget-view+json": {
       "model_id": "88194ab0b02d4b8883f9857b3182f9f8",
       "version_major": 2,
       "version_minor": 0
      },
      "text/plain": [
       "Map(center=[37.22, -80.42], controls=(WidgetControl(options=['position', 'transparent_bg'], widget=HBox(childr…"
      ]
     },
     "metadata": {},
     "output_type": "display_data"
    }
   ],
   "source": [
    "vizParams = {\n",
    "    'min': 0, \n",
    "    'max': 2,\n",
    "    'palette': ['red', 'green', 'blue']\n",
    "}\n",
    "\n",
    "# Define a map centered on southern Maine.\n",
    "map = build_map(lat, lon, zoom, vizParams, classified, name)\n",
    "\n",
    "display(map)"
   ]
  },
  {
   "cell_type": "code",
   "execution_count": 20,
   "metadata": {},
   "outputs": [],
   "source": [
    "sample  = sample.randomColumn();\n",
    "train = sample.filter(ee.Filter.lt('random', 0.6));\n",
    "test = sample.filter(ee.Filter.gte('random', 0.6));\n",
    "numTrees = ee.List.sequence(5, 50, 5);"
   ]
  },
  {
   "cell_type": "code",
   "execution_count": 21,
   "metadata": {},
   "outputs": [],
   "source": [
    "def f_classifier(t): \n",
    "    c = (ee.Classifier.smileRandomForest(t).train(\n",
    "          features= train,\n",
    "          classProperty= 'class',\n",
    "          inputProperties= predictionBands\n",
    "      ))\n",
    "    return c"
   ]
  },
  {
   "cell_type": "code",
   "execution_count": 22,
   "metadata": {},
   "outputs": [],
   "source": [
    "classifier = numTrees.map(lambda t: f_classifier(t))"
   ]
  },
  {
   "cell_type": "code",
   "execution_count": 23,
   "metadata": {},
   "outputs": [],
   "source": [
    "acccuracies = test.classify(classifier).errorMatrix('class',  'classification').accuracy()"
   ]
  },
  {
   "cell_type": "code",
   "execution_count": 24,
   "metadata": {},
   "outputs": [],
   "source": [
    "# Figure out the best way to build out charts\n",
    "a = ee.Array(classifier)"
   ]
  },
  {
   "cell_type": "code",
   "execution_count": 25,
   "metadata": {},
   "outputs": [
    {
     "data": {
      "text/plain": [
       "'\\nprint(ui.Chart.array.values({\\n  array: ee.Array(accuracies),\\n  axis: 0,\\n  xLabels: numTrees\\n}));  \\n\\n'"
      ]
     },
     "execution_count": 25,
     "metadata": {},
     "output_type": "execute_result"
    }
   ],
   "source": [
    "# Replace \n",
    "\"\"\"\n",
    "print(ui.Chart.array.values({\n",
    "  array: ee.Array(accuracies),\n",
    "  axis: 0,\n",
    "  xLabels: numTrees\n",
    "}));  \n",
    "\n",
    "\"\"\""
   ]
  },
  {
   "cell_type": "markdown",
   "metadata": {},
   "source": [
    "You should see something like the following chart, in which the number of trees is on the x-axis and estimated accuracy is on the y-axis.\n",
    "\n",
    "![Accuracy versus Tree](./im/im_04_04.png)\n",
    "\n",
    "We always get very good accuracy in this simple example, as mentioned before. We can see that 10 is not the optimal number of trees, but after adding more (up to about 20 or 30), we don't get much more accuracy for the increased computational burden. In this chart specifically, perhaps 20 trees is optimal - as datasets grow larger, the computational burden begins to play a larger role and has to be taken into account. "
   ]
  },
  {
   "cell_type": "markdown",
   "metadata": {},
   "source": [
    "## Classification Assignment\n",
    "\n",
    "> **Assignment**: Design a four-class classification for your area of interest. Decide on suitable input data and manually collect training points (or polygons) and instantiate a random forest classifier. In your code, have a variable called trees that sets the optimal number of trees according to your hyper-parameter tuning. Have a variable called `maxAccuracy` that stores the estimated accuracy for the optimal number of trees.\n",
    "\n",
    "## Regression\n",
    "\n",
    "Classifying imagery is an essential part of remote sensing research. In the previous lab, we began working with classification and regression, and we will continue on this same path for the first half of this lab. We will begin to explore Random Forest models more in depth, which were briefly introduced in the previous lab.  Ultimately, the purpose of classification in this context is to use known characteristics of a subset of the image to make a best-estimate classification of the rest of the image.  \n",
    "\n",
    "In the present context, regression means predicting a numeric variable instead of a class label. No lab on regression would be complete without the requisite introduction to least squares regression.\n",
    "\n",
    "### Ordinary Least Squares (OLS)\n",
    "\n",
    "[Ordinary regression](https://en.wikipedia.org/wiki/Ordinary_least_squares) is when *G* is a linear function of the form *G*(**p**) = **βp** where **β** is a vector of coefficients. Once *G* is trained by some training set **T**, we can estimate the value for some unknown **p** by multiplying it with **β**. \n",
    "\n",
    "Suppose the goal is to estimate percent tree cover in each Landsat pixel.\n",
    "\n",
    "For this exercise, we will use data that has a known values for *g*., 'MODIS Terra Vegetation Continuous Fields Yearly Global 250m'. Since water is coded as 200 in this image, replace the 200's with 0's and display the result. Documentation for the `.where` clause is at this [link](https://developers.google.com/earth-engine/apidocs/ee-image-where?hl=en). Scroll in and note that when you click on a water area it will say 'masked', where as land areas will provide a numerical value listed as 'Percent_Tree_Cover'. Each pixel represents percent tree cover (as an integer value) at 250 meter resolution in 2010."
   ]
  },
  {
   "cell_type": "code",
   "execution_count": 26,
   "metadata": {},
   "outputs": [
    {
     "data": {
      "application/vnd.jupyter.widget-view+json": {
       "model_id": "22c3c577ec67449b9889e69269b343ce",
       "version_major": 2,
       "version_minor": 0
      },
      "text/plain": [
       "Map(center=[37.22, -80.42], controls=(WidgetControl(options=['position', 'transparent_bg'], widget=HBox(childr…"
      ]
     },
     "metadata": {},
     "output_type": "display_data"
    }
   ],
   "source": [
    "mod44b = ee.ImageCollection(\"MODIS/006/MOD44B\")\n",
    "tree = ee.Image(mod44b.sort('system:time_start', False).first());\n",
    "\n",
    "percentTree = (tree.select('Percent_Tree_Cover')\n",
    "  .where(tree.select('Percent_Tree_Cover').eq(200), 0))\n",
    "\n",
    "vizParams = {\n",
    "  'bands': ['Percent_Tree_Cover'],\n",
    "  'min': 0.0,\n",
    "  'max': 100.0,\n",
    "  'palette': ['bbe029', '0a9501', '074b03']\n",
    "}\n",
    "\n",
    "map = build_map(lat, lon, zoom, vizParams, percentTree, 'percent tree cover')\n",
    "display(map)"
   ]
  },
  {
   "cell_type": "markdown",
   "metadata": {},
   "source": [
    "For predictor variables (**p**)we will use 'USGS Landsat 5 TM Collection 1 Tier 1 Raw Scenes'. Filter to the year 2010 and the [WRS-2](https://www.usgs.gov/faqs/what-worldwide-reference-system-wrs?qt-news_science_products=0#qt-news_science_products) path and row (or given point) to get only scenes over the San Francisco Bay area in 2010. Use an Earth Engine algorithm to get a cloud-free composite of Landsat imagery.\n",
    "\n",
    "Specify the bands of the Landsat composite to be used as predictors (i.e. the elements of **p**):\n",
    "\n",
    "Now that all the input data is ready, we can build the shell of our linear regression equation. It's customary to include a constant term in linear regression to make it the best linear unbiased estimator [(Gauss-Markov)](https://en.wikipedia.org/wiki/Gauss–Markov_theorem). Stack a constant, the predictor variables and the 'Percent Tree Cover' Image as the variable `trainingImage`, representing known *g*: If you print `trainingImage` to the console, you will see that the format of the data that we have follows the typical equation for linear regression. \n",
    "\n",
    "$$y = \\beta_0 + \\beta_1X_1 + ... + \\beta_nX_n + \\epsilon$$\n",
    "\n",
    "Sample 1000 pixels out of `trainingImage`, to get a table of Feature Collections, each containing a value for each band (1-7), a value for the 'Percent Tree Cover', and a constant (value of 1)."
   ]
  },
  {
   "cell_type": "code",
   "execution_count": 27,
   "metadata": {},
   "outputs": [
    {
     "data": {
      "application/vnd.jupyter.widget-view+json": {
       "model_id": "1e75cbd5d4c44281b6bdbf189f2a11e0",
       "version_major": 2,
       "version_minor": 0
      },
      "text/plain": [
       "Map(center=[37.7, -122.1], controls=(WidgetControl(options=['position', 'transparent_bg'], widget=HBox(childre…"
      ]
     },
     "metadata": {},
     "output_type": "display_data"
    }
   ],
   "source": [
    "lat = 37.70; lon = -122.10; \n",
    "zoom = 11;\n",
    "image_collection_name = \"LANDSAT/LT05/C01/T1\"\n",
    "date_start = '2010-01-01'\n",
    "date_end = '2010-12-31'\n",
    "name = 'Landsat 5 (2010)'\n",
    "point = ee.Geometry.Point([lon, lat])\n",
    "\n",
    "image_raw = (ee.ImageCollection(image_collection_name))\n",
    "\n",
    "image_filtered = (image_raw\n",
    "             .filterBounds(point)\n",
    "             .filterDate(date_start, date_end))\n",
    "\n",
    "image = (ee.Algorithms.Landsat.simpleComposite(\n",
    "  collection= image_filtered,\n",
    "  asFloat= True\n",
    "))\n",
    "         \n",
    "bands = ['B4', 'B3', 'B2']\n",
    "\n",
    "vizParams = {\n",
    "    'bands': bands, \n",
    "    'min': 0, \n",
    "    'max': 0.3,\n",
    "}\n",
    "\n",
    "# Define a map centered on southern Maine.\n",
    "map = build_map(lat, lon, zoom, vizParams, image, name)\n",
    "#map.add_ee_layer(image, vizParams)\n",
    "display(map)"
   ]
  },
  {
   "cell_type": "code",
   "execution_count": 28,
   "metadata": {},
   "outputs": [],
   "source": [
    "predictionBands = ['B1', 'B2', 'B3', 'B4', 'B5', 'B6', 'B7'];\n",
    "\n",
    "trainingImage = (\n",
    "    ee.Image(1)\n",
    "      .addBands(image.select(predictionBands))\n",
    "      .addBands(percentTree)\n",
    ")\n",
    "\n",
    "training = trainingImage.sample(\n",
    " region= image_filtered.first().geometry(), \n",
    " scale= 30, \n",
    " numPixels= 1000\n",
    ");\n",
    "\n",
    "trainingList = (ee.List(predictionBands)\n",
    "  .insert(0, 'constant')\n",
    "  .add('Percent_Tree_Cover'))\n",
    "\n",
    "regression = training.reduceColumns(\n",
    "    reducer= ee.Reducer.linearRegression(8),  \n",
    "    selectors= trainingList\n",
    "  );"
   ]
  },
  {
   "cell_type": "markdown",
   "metadata": {},
   "source": [
    "Inspect the first element of `training` to make sure it has all of the expected data. \n",
    "\n",
    "> **Question 1**: What do you expect to see when you inspect the first element of training, and how does that compare with what you ultimately end up seeing?\n",
    "\n",
    "The next step is to train *G*. Make a list of the variable names (predictors) followed by *g*:\n",
    "\n",
    "In Earth Engine, [linear regression is implemented as a Reducer](https://developers.google.com/earth-engine/reducers_regression). This means that training *G* is a reduction of the **T** table, performed using the list of variables as an input. The argument tells the reducer how many of the input variables are predictors - note that we have 1 as a constant. \n",
    "\n",
    "Print `regression` - we now have a coefficient for each of the predictor variables (in the order specified by the inputs list), along with a value for residuals (the difference between the observed and predicted values).\n",
    "\n",
    "![Regression Coefficients](./im/im_04_05.png)\n",
    "To use the coefficients to make a prediction in every pixel, first turn the output coefficients into an image, then perform the multiplication and addition that implements $\\beta_p$: "
   ]
  },
  {
   "cell_type": "code",
   "execution_count": 29,
   "metadata": {},
   "outputs": [],
   "source": [
    "coefficients = (ee.Array(regression.get('coefficients'))\n",
    "            .project([0])  \n",
    "            .toList())"
   ]
  },
  {
   "cell_type": "code",
   "execution_count": 30,
   "metadata": {},
   "outputs": [],
   "source": [
    "predictedTreeCover = (ee.Image(1)\n",
    "    .addBands(image.select(predictionBands))\n",
    "    .multiply(ee.Image.constant(coefficients))\n",
    "    .reduce(ee.Reducer.sum())\n",
    "    .rename('predictedTreeCover'))"
   ]
  },
  {
   "cell_type": "code",
   "execution_count": 31,
   "metadata": {},
   "outputs": [
    {
     "data": {
      "application/vnd.jupyter.widget-view+json": {
       "model_id": "e250750603694c5981a65b6bb1b79c2c",
       "version_major": 2,
       "version_minor": 0
      },
      "text/plain": [
       "Map(center=[37.7, -122.1], controls=(WidgetControl(options=['position', 'transparent_bg'], widget=HBox(childre…"
      ]
     },
     "metadata": {},
     "output_type": "display_data"
    }
   ],
   "source": [
    "vizParams = {\n",
    "    'min': 0, \n",
    "    'max': 100,\n",
    "    'palette': ['bbe029', '0a9501', '074b03']\n",
    "}\n",
    "\n",
    "# Define a map centered on southern Maine.\n",
    "map = build_map(lat, lon, zoom, vizParams, predictedTreeCover, 'predictedTreeCover')\n",
    "#map.add_ee_layer(image, vizParams)\n",
    "display(map)"
   ]
  },
  {
   "cell_type": "markdown",
   "metadata": {},
   "source": [
    "Carefully inspect this result by using the inspector on the prediction layer and comparing it to the imagery basemap. Is it satisfactory?\n",
    "\n",
    "\n",
    "If not, it might be worth testing some other regression functions, adding more predictor variables, collecting more training data, or all of the above. In remote sensing research, this is not a one-step process - to find value in these models, you will need to continuously improve, iterate and retest your assumptions. Keep track of your adjustments/iterations so that you can identify which changes yield the best results. \n",
    "\n",
    "> **Question 2**: Upload your predicted layer and your satellite imagery basemap. Discuss the features of the predicted output and which steps you may want to take to improve the results."
   ]
  },
  {
   "cell_type": "markdown",
   "metadata": {},
   "source": [
    "## Nonlinear Regression\n",
    "\n",
    "If ordinary linear regression is not satisfactory, Earth Engine contains other functions that can make predictions of a continuous variable. Unlike linear regression, other regression functions are implemented by the classifier library. \n",
    "\n",
    "For example, a Classification and Regression Tree (CART) is a machine learning algorithm that can learn non-linear patterns in your data. Reusing the **T** table (without the constant term), train a CART as follows:"
   ]
  },
  {
   "cell_type": "code",
   "execution_count": 32,
   "metadata": {},
   "outputs": [],
   "source": [
    "cartRegression = (ee.Classifier.smileCart()\n",
    "  .setOutputMode('REGRESSION')\n",
    "  .train(\n",
    "       features= training, \n",
    "       classProperty= 'Percent_Tree_Cover', \n",
    "       inputProperties= predictionBands\n",
    "  ));"
   ]
  },
  {
   "cell_type": "code",
   "execution_count": 33,
   "metadata": {},
   "outputs": [],
   "source": [
    "cartRegressionImage = (image.select(predictionBands)\n",
    "  .classify(cartRegression, 'cartRegression'))"
   ]
  },
  {
   "cell_type": "code",
   "execution_count": 34,
   "metadata": {},
   "outputs": [
    {
     "data": {
      "application/vnd.jupyter.widget-view+json": {
       "model_id": "682fe0d512c64307a4f4818aafc0dee1",
       "version_major": 2,
       "version_minor": 0
      },
      "text/plain": [
       "Map(center=[37.7, -122.1], controls=(WidgetControl(options=['position', 'transparent_bg'], widget=HBox(childre…"
      ]
     },
     "metadata": {},
     "output_type": "display_data"
    }
   ],
   "source": [
    "# Define a map centered on southern Maine.\n",
    "map = build_map(lat, lon, zoom, {'min': 0, 'max': 100}, cartRegressionImage, 'CART regression')\n",
    "#map.add_ee_layer(image, vizParams)\n",
    "display(map)"
   ]
  },
  {
   "cell_type": "markdown",
   "metadata": {},
   "source": [
    "Use the 'inspector' to compare the linear regression to the CART regression. Although CART can work in both classification and regression mode, not all classifiers are as easily adaptable. \n",
    "\n",
    "> **Question 3**: What do you observe when comparing the linear regression to the CART regression? Are the prediction values similar? If the output for both are similar, does the value seem to match the background imagery?"
   ]
  },
  {
   "cell_type": "code",
   "execution_count": null,
   "metadata": {},
   "outputs": [],
   "source": []
  }
 ],
 "metadata": {
  "deepnote": {
   "is_reactive": false
  },
  "deepnote_execution_queue": [],
  "deepnote_notebook_id": "3b5eb48b-7759-4edb-9579-8c2629906ee2",
  "kernelspec": {
   "display_name": "geo",
   "language": "python",
   "name": "geo"
  },
  "language_info": {
   "codemirror_mode": {
    "name": "ipython",
    "version": 3
   },
   "file_extension": ".py",
   "mimetype": "text/x-python",
   "name": "python",
   "nbconvert_exporter": "python",
   "pygments_lexer": "ipython3",
   "version": "3.7.10"
  }
 },
 "nbformat": 4,
 "nbformat_minor": 4
}
