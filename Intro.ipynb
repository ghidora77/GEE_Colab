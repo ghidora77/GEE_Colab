{
<<<<<<< HEAD
 "cells": [
  {
   "cell_type": "markdown",
   "metadata": {
    "cell_id": "bb87216e22934de0b7ae8362d7bf001e",
    "deepnote_cell_height": 952,
    "deepnote_cell_type": "markdown",
    "tags": []
   },
   "source": [
    "# Google Earth Engine Introduction\n",
    "\n",
    "## Why Google Earth Engine? \n",
    "\n",
    "Research in Remote Sensing has evolved drastically over the past few decades. \n",
    "\n",
    "In the earliest years of remote sensing analysis, only a handful of governments had the capability to deploy satellites and reliably process the imagery, while the use was largely limited to the military and intelligence communities. In the late 1950s, the US and Europe established the National Aeronautics and Space Administration (NASA) and the origins of the European Space Agency (ESA) to support a civilian space program as well as space and aeronautics research. Even then, data access was unwieldy and costly - if a researcher had identified the data they needed, they would have to go through the highly complicated and time-intensive steps of downloading the data onto a mainframe computer with sufficient storage and processing capability t performing a series of pre-processing steps (e.g. orthorectification and atmospheric corrections), all before they could start analysis. \n",
    "\n",
    "**Enter Google Earth Engine (GEE).** As part of Google's quest to make the world's information universally accessible and useful, Google Earth Engine emerged in 2010 to aid in organizing and simplifying geospatial data in a way that supports an end-to-end solution. This is a valuable tool simplifies many of the historical problems that Remote Sensing researchers have struggled with. Google has collected and maintains petabytes of imagery from both public and private sources, including the most-used Landsat, MODIS, and Sentinel data. Additionally, GEE allows users to process the data and conduct sophisticated analysis within Google's Cloud environment (even allowing advanced Machine Learning using TensorFlow Processing Units). They geo-rectify the imagery and provide pre-built algorithms that facilitate analysis. In case you need to build your own algorithms, Google Earth Engine has  functionality within JavaScript and Python, which in turn extends the opportunities for processing data and displaying results. The user can even import their own data and work with it within GEE. Finally, the user owns the analysis and algorithms written within GEE, providing fair and open use.   \n",
    "\n",
    "As researchers  involved in Remote Sensing, Google Earth Engine provides an invaluable toolset that you can use throughout your career. \n",
    "\n",
    "## License and Attribution\n",
    "\n",
    "This work is licensed under a[ Creative Commons Attribution 4.0 International License](http://creativecommons.org/licenses/by/4.0/). The foundation of these lab exercises were generously shared with us by Nicholas Clinton (Google) and Dr. David Saah (University of San Francisco, Geospatial Analysis Lab). We thank them for this great public good and take responsibility for any errors that arose from our adaptation.\n",
    "\n",
    "Elinor Ben-Ami and [Ozzy Campos](https://www.linkedin.com/in/adam-ozzy-c-553b37a9/) have extended and customized these labs and exercise and incorporated them into the course 'Remote Sensing for Social Science'.  "
   ]
  },
  {
   "cell_type": "code",
   "execution_count": null,
   "metadata": {},
   "outputs": [],
   "source": []
  }
 ],
 "metadata": {
  "deepnote": {
   "is_reactive": false
  },
  "deepnote_execution_queue": [],
  "deepnote_notebook_id": "2d3eff80-2eee-4f92-8252-1ed6c92ed67c",
  "kernelspec": {
   "display_name": "Python 3 (ipykernel)",
   "language": "python",
   "name": "python3"
  },
  "language_info": {
   "codemirror_mode": {
    "name": "ipython",
    "version": 3
   },
   "file_extension": ".py",
   "mimetype": "text/x-python",
   "name": "python",
   "nbconvert_exporter": "python",
   "pygments_lexer": "ipython3",
   "version": "3.7.10"
  }
 },
 "nbformat": 4,
 "nbformat_minor": 4
}
=======
  "cells": [
    {
      "cell_type": "markdown",
      "source": [
        "# Google Earth Engine Introduction\n",
        "\n",
        "## Why Google Earth Engine? \n",
        "\n",
        "Research in Remote Sensing has evolved drastically over the past few decades. \n",
        "\n",
        "In the earliest years of remote sensing analysis, only a handful of governments had the capability to deploy satellites and reliably process the imagery, while the use was largely limited to the military and intelligence communities. In the late 1950s, the US and Europe established the National Aeronautics and Space Administration (NASA) and the origins of the European Space Agency (ESA) to support a civilian space program as well as space and aeronautics research. Even then, data access was unwieldy and costly - if a researcher had identified the data they needed, they would have to go through the highly complicated and time-intensive steps of downloading the data onto a mainframe computer with sufficient storage and processing capability t performing a series of pre-processing steps (e.g. orthorectification and atmospheric corrections), all before they could start analysis. \n",
        "\n",
        "**Enter Google Earth Engine (GEE).** As part of Google's quest to make the world's information universally accessible and useful, Google Earth Engine emerged in 2010 to aid in organizing and simplifying geospatial data in a way that supports an end-to-end solution. This is a valuable tool simplifies many of the historical problems that Remote Sensing researchers have struggled with. Google has collected and maintains petabytes of imagery from both public and private sources, including the most-used Landsat, MODIS, and Sentinel data. Additionally, GEE allows users to process the data and conduct sophisticated analysis within Google's Cloud environment (even allowing advanced Machine Learning using TensorFlow Processing Units). They geo-rectify the imagery and provide pre-built algorithms that facilitate analysis. In case you need to build your own algorithms, Google Earth Engine has  functionality within JavaScript and Python, which in turn extends the opportunities for processing data and displaying results. The user can even import their own data and work with it within GEE. Finally, the user owns the analysis and algorithms written within GEE, providing fair and open use.   \n",
        "\n",
        "As researchers  involved in Remote Sensing, Google Earth Engine provides an invaluable toolset that you can use throughout your career. \n",
        "\n",
        "## License and Attribution\n",
        "\n",
        "This work is licensed under a[ Creative Commons Attribution 4.0 International License](http://creativecommons.org/licenses/by/4.0/). The foundation of these lab exercises were generously shared with us by Nicholas Clinton (Google) and Dr. David Saah (University of San Francisco, Geospatial Analysis Lab). We thank them for this great public good and take responsibility for any errors that arose from our adaptation.\n",
        "\n",
        "Elinor Ben-Ami and [Ozzy Campos](https://www.linkedin.com/in/adam-ozzy-c-553b37a9/) have extended and customized these labs and exercise and incorporated them into the course 'Remote Sensing for Social Science'.  "
      ],
      "metadata": {
        "cell_id": "bb87216e22934de0b7ae8362d7bf001e",
        "tags": [],
        "deepnote_cell_type": "markdown",
        "deepnote_cell_height": 952,
        "id": "qS9DJrxavdPy"
      }
    }
  ],
  "nbformat": 4,
  "nbformat_minor": 0,
  "metadata": {
    "orig_nbformat": 2,
    "deepnote": {
      "is_reactive": false
    },
    "deepnote_notebook_id": "2d3eff80-2eee-4f92-8252-1ed6c92ed67c",
    "deepnote_execution_queue": [],
    "colab": {
      "name": "Intro.ipynb",
      "provenance": []
    }
  }
}
>>>>>>> cf4e9f7710e1dfae83549cf484d822d7e365959a
